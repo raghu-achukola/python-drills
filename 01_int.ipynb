{
 "cells": [
  {
   "attachments": {},
   "cell_type": "markdown",
   "metadata": {},
   "source": [
    "# Int\n",
    "\n",
    "The int type is for integer values"
   ]
  },
  {
   "cell_type": "code",
   "execution_count": 1,
   "metadata": {},
   "outputs": [
    {
     "data": {
      "text/plain": [
       "int"
      ]
     },
     "execution_count": 1,
     "metadata": {},
     "output_type": "execute_result"
    }
   ],
   "source": [
    "int_value = 23\n",
    "type(int_value)"
   ]
  },
  {
   "attachments": {},
   "cell_type": "markdown",
   "metadata": {},
   "source": [
    "#### Other ways to define an integer"
   ]
  },
  {
   "cell_type": "code",
   "execution_count": 2,
   "metadata": {},
   "outputs": [
    {
     "name": "stdout",
     "output_type": "stream",
     "text": [
      "Even though they were defined different ways to be more readble, they are stored the same way\n",
      "millions : 5234123\n",
      "phone_number: 12125552431\n"
     ]
    }
   ],
   "source": [
    "# When working with big numbers, it can be confusing to see all the digits bunch together\n",
    "# You can use underscores (at any place in the integer) to split up a long number literal to make it more readable\n",
    "\n",
    "millions = 5_234_123                # 5,234,123 the _ serving the purpose of the commas to break it up make it more readable\n",
    "phone_number = 1_212_555_2431       # But it doesn't have to be in spaces of three, here i have a literal phone number split in a way to make it readable\n",
    "\n",
    "print('Even though they were defined different ways to be more readble, they are stored the same way')\n",
    "print(f'millions : {millions}')\n",
    "print(f'phone_number: {phone_number}')\n"
   ]
  },
  {
   "attachments": {},
   "cell_type": "markdown",
   "metadata": {},
   "source": [
    "### Arithmetic"
   ]
  },
  {
   "cell_type": "code",
   "execution_count": 3,
   "metadata": {},
   "outputs": [
    {
     "name": "stdout",
     "output_type": "stream",
     "text": [
      "The sum of 9 and 2 is 11 and its type is <class 'int'>\n",
      "The difference of 9 and 2 is 7 and its type is <class 'int'>\n",
      "The product of 9 and 2 is 18 and its type is <class 'int'>\n",
      "9 to the power of 2 is 81 and its type is <class 'int'>\n",
      "9/2 = 4.5 and its type is <class 'float'>\n",
      "9/3 = 3.0 and its type is <class 'float'>\n",
      "9//2 = 4 and its type is <class 'int'>\n",
      "9//-2 = -5 and its type is <class 'int'>\n",
      "9 mod 2 = 1\n",
      "9 mod 3 = 0\n"
     ]
    }
   ],
   "source": [
    "a = 9\n",
    "b = 2\n",
    "c = 3\n",
    "d = -2\n",
    "\n",
    "# Adding    (int + int) -> (int)\n",
    "sum_a_b = a + b\n",
    "# Subtracting   (int - int) -> (int)\n",
    "difference_a_b = a - b\n",
    "# Multiplying   (int * int) -> (int)\n",
    "product_a_b = a * b \n",
    "# Power (int ** int) -> (int)\n",
    "a_to_the_power_of_b = a ** b\n",
    "# Division (int / int) -> (float) even if it divides perfectly\n",
    "a_over_b = a/b\n",
    "a_over_c = a/c\n",
    "# Integer division (int // int) -> (int) - Takes a/b and ROUNDS DOWN THE DECIMAL\n",
    "a_int_div_b = a // b\n",
    "a_int_div_d = a // d\n",
    "# Modulo (int % int) -> (int) - the remainder when a is divided by b\n",
    "a_mod_b = a % b\n",
    "a_mod_c = a % c\n",
    "\n",
    "# Adding\n",
    "print(f'The sum of {a} and {b} is {sum_a_b} and its type is {type(sum_a_b)}')\n",
    "# Subtracting\n",
    "print(f'The difference of {a} and {b} is {difference_a_b} and its type is {type(difference_a_b)}')\n",
    "# Multiplying\n",
    "print(f'The product of {a} and {b} is {product_a_b} and its type is {type(product_a_b)}')\n",
    "# Power\n",
    "print(f'{a} to the power of {b} is {a_to_the_power_of_b} and its type is {type(a_to_the_power_of_b)}')\n",
    "# Simple Division\n",
    "print(f'{a}/{b} = {a_over_b} and its type is {type(a_over_b)}')\n",
    "print(f'{a}/{c} = {a_over_c} and its type is {type(a_over_c)}')\n",
    "# Integer division\n",
    "print(f'{a}//{b} = {a_int_div_b} and its type is {type(a_int_div_b)}')\n",
    "print(f'{a}//{d} = {a_int_div_d} and its type is {type(a_int_div_d)}')\n",
    "# Modulo\n",
    "print(f'{a} mod {b} = {a_mod_b}')\n",
    "print(f'{a} mod {c} = {a_mod_c}')"
   ]
  },
  {
   "cell_type": "code",
   "execution_count": 4,
   "metadata": {},
   "outputs": [
    {
     "name": "stdout",
     "output_type": "stream",
     "text": [
      "We can take the absolute value of a number by using abs() : abs(-551) = 551\n",
      "The integer -551 rounded to the nearest 10^1 is given by -550\n",
      "divmod(103,9) results in an object of type <class 'tuple'> : (11, 4).\n",
      "This object can be unpacked: 103 divided by 9 gives u 11 with remainder 4\n"
     ]
    }
   ],
   "source": [
    "# more complex int arithmetic:\n",
    "\n",
    "x = -551\n",
    "n = -1\n",
    "\n",
    "d = 103\n",
    "e = 9\n",
    "\n",
    "abs_x = abs(x)\n",
    "round_x_0 = round(x)\n",
    "round_x_n = round(x,n)\n",
    "dm = divmod(d,e)    # We can take the integer division and the remainder of a pair of ints in one step\n",
    "quotient, remainder = dm # divmod(d:int, e:int) -> tuple (d // e, d % e)\n",
    "\n",
    "print(f\"We can take the absolute value of a number by using abs() : abs({x}) = {abs_x}\")\n",
    "# round() works on floats, with a default second value of 0, meaning round to 0 decimal places (round to an integer)\n",
    "# round(x) == round(x,0)\n",
    "# however, you can also use negative values to round to the nearest 10, 100, etc. \n",
    "# round(x,-1) rounds x to the nearest 10, round(X,-2) rounds x to the nearest 100, etc. \n",
    "print(f\"The integer {x} rounded to the nearest 10^{-n} is given by {round_x_n}\")\n",
    "\n",
    "print(f\"divmod({d},{e}) results in an object of type {type(dm)} : {dm}.\")\n",
    "print(f\"This object can be unpacked: {d} divided by {e} gives u {quotient} with remainder {remainder}\")\n"
   ]
  },
  {
   "attachments": {},
   "cell_type": "markdown",
   "metadata": {},
   "source": [
    "#### Equality and Inequality"
   ]
  },
  {
   "cell_type": "code",
   "execution_count": 5,
   "metadata": {},
   "outputs": [],
   "source": [
    "f = 1\n",
    "g = 0 \n",
    "h = 23\n"
   ]
  },
  {
   "attachments": {},
   "cell_type": "markdown",
   "metadata": {},
   "source": [
    "#### Type Conversion"
   ]
  },
  {
   "cell_type": "code",
   "execution_count": 6,
   "metadata": {},
   "outputs": [
    {
     "name": "stdout",
     "output_type": "stream",
     "text": [
      "1 evaluates to True, 0 evaluates to False, 23 evaluates to True, -12 evaluates to True\n",
      "If k is an integer, this block was triggered bc bool(k) is True, aka k != 0 \n"
     ]
    }
   ],
   "source": [
    "# Truthy ness - conversion to bool\n",
    "\n",
    "# When converted to boolean non 0 integers read as \"True\" and 0 reads as \"False\"\n",
    "\n",
    "i = 1\n",
    "j = 0 \n",
    "k = 23\n",
    "l = -12\n",
    "\n",
    "print(f\"{i} evaluates to {bool(i)}, {j} evaluates to {bool(j)}, {k} evaluates to {bool(k)}, {l} evaluates to {bool(l)}\")\n",
    "\n",
    "# Note that since the if statement (look at the boolean ipynb file) takes a boolean condition, if we want a condition that is \n",
    "# if k !=0 we can just say: \n",
    "if k : \n",
    "    print('If k is an integer, this block was triggered bc bool(k) is True, aka k != 0 ')\n",
    "else:\n",
    "    print('If k is an integer, this block was triggered bc bool(k) is False, aka k == 0')\n",
    "\n",
    "# Putting just integer (or float or string or whatever) values into a conditional is a Pythonic practice based on the Pythonic concept of \n",
    "# *truthiness* - aka how do i convert other boolean types to \"True\" or \"False\""
   ]
  },
  {
   "cell_type": "code",
   "execution_count": 7,
   "metadata": {},
   "outputs": [
    {
     "name": "stdout",
     "output_type": "stream",
     "text": [
      "The conversions to floats(decimals) and strings(text) is quite intuitive for ints\n",
      "float(2) = 2.0 and str(2) = '2'\n"
     ]
    }
   ],
   "source": [
    "# Float and String\n",
    "m = 2\n",
    "print('The conversions to floats(decimals) and strings(text) is quite intuitive for ints')\n",
    "print(f'float({m}) = {repr(float(m))} and str({m}) = {repr(str(m))}')\n"
   ]
  },
  {
   "cell_type": "code",
   "execution_count": 8,
   "metadata": {},
   "outputs": [
    {
     "name": "stdout",
     "output_type": "stream",
     "text": [
      "m is True\n"
     ]
    }
   ],
   "source": [
    "\n",
    "m = 2 \n",
    "if bool(m) == True : \n",
    "    print('m is True')\n",
    "else: \n",
    "    print('m is False')\n"
   ]
  }
 ],
 "metadata": {
  "kernelspec": {
   "display_name": "base",
   "language": "python",
   "name": "python3"
  },
  "language_info": {
   "codemirror_mode": {
    "name": "ipython",
    "version": 3
   },
   "file_extension": ".py",
   "mimetype": "text/x-python",
   "name": "python",
   "nbconvert_exporter": "python",
   "pygments_lexer": "ipython3",
   "version": "3.9.12"
  },
  "orig_nbformat": 4,
  "vscode": {
   "interpreter": {
    "hash": "a0d540e4747513a65e87964975f7c81fb7d18508ffc1a8c72ca7d81f5952c4de"
   }
  }
 },
 "nbformat": 4,
 "nbformat_minor": 2
}
