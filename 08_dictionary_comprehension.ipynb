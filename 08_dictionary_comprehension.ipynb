{
 "cells": [
  {
   "attachments": {},
   "cell_type": "markdown",
   "metadata": {},
   "source": [
    "# Dictionaries: Comprehensions"
   ]
  },
  {
   "cell_type": "code",
   "execution_count": 21,
   "metadata": {},
   "outputs": [],
   "source": [
    "from pytutorial import br,bg"
   ]
  },
  {
   "cell_type": "code",
   "execution_count": 18,
   "metadata": {},
   "outputs": [
    {
     "name": "stdout",
     "output_type": "stream",
     "text": [
      "After the for loop data_loop is:\n",
      " \u001b[1m\u001b[91m{'A': 'letter', 'S': 'letter', '1': 'number', 'D': 'letter', 'E': 'letter', '4': 'number'}\u001b[0m\u001b[0m\n",
      "After the dictionary comprehension data_comp is: \n",
      " \u001b[1m\u001b[92m{'A': 'letter', 'S': 'letter', '1': 'number', 'D': 'letter', 'E': 'letter', '4': 'number'}\u001b[0m\u001b[0m\n"
     ]
    }
   ],
   "source": [
    "# Much like a list or tuple comprehension you can create a dictionary from an iterator in one line \n",
    "\n",
    "# Recognize the pattern \n",
    "\n",
    "char_list = ['A','S','1','D','E','4']\n",
    "data_loop = {}       # Initialize an empty object (this time a dictionary)\n",
    "for key in char_list:     # Iterator\n",
    "    if key.isdecimal():\n",
    "        data_loop[key] = 'number'              # Add to dictionary\n",
    "    else:                                 # Simple branching condition (if-else)\n",
    "        data_loop [key] = 'letter'\n",
    "    # No reliance on \"state\", or complicated blocks\n",
    "\n",
    "print(f'After the for loop data_loop is:\\n {br(data_loop)}')\n",
    "\n",
    "\n",
    "## Rewrite as dictionary comprehension\n",
    "data_comp = {                               # Empty object {} for dict/set, () for tuple, [] for list\n",
    "\n",
    "    key: ('number' if key.isdecimal() else 'letter'  )        # Thing to put in the iterable using ternary operator to remove the if/else\n",
    "                                                              # As a dictionary it has to be a key:value pair\n",
    "    for key in char_list                                      # Iterator \n",
    "\n",
    "}\n",
    "\n",
    "\n",
    "print(f'After the dictionary comprehension data_comp is: \\n {bg(data_comp)}')\n",
    "\n",
    "\n",
    "\n"
   ]
  }
 ],
 "metadata": {
  "kernelspec": {
   "display_name": "base",
   "language": "python",
   "name": "python3"
  },
  "language_info": {
   "codemirror_mode": {
    "name": "ipython",
    "version": 3
   },
   "file_extension": ".py",
   "mimetype": "text/x-python",
   "name": "python",
   "nbconvert_exporter": "python",
   "pygments_lexer": "ipython3",
   "version": "3.9.12 (main, Apr  4 2022, 05:22:27) [MSC v.1916 64 bit (AMD64)]"
  },
  "orig_nbformat": 4,
  "vscode": {
   "interpreter": {
    "hash": "a0d540e4747513a65e87964975f7c81fb7d18508ffc1a8c72ca7d81f5952c4de"
   }
  }
 },
 "nbformat": 4,
 "nbformat_minor": 2
}
