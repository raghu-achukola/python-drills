{
 "cells": [
  {
   "attachments": {},
   "cell_type": "markdown",
   "metadata": {},
   "source": [
    "# Dictionaries"
   ]
  },
  {
   "attachments": {},
   "cell_type": "markdown",
   "metadata": {},
   "source": [
    "Dictionaries store data (like a dictionary) in key-value pairs (think word-definition). It is impossible to store a 'single piece' of data in a dictionary. Dictionaries in Python, like their real world counterparts are meant to give information (value/definition) when you look up a (key/word)."
   ]
  },
  {
   "cell_type": "code",
   "execution_count": 1,
   "metadata": {},
   "outputs": [],
   "source": [
    "dictionary = {                      # Dictionaries are DEFINED by curly braces\n",
    "    'key1':'value1',                # These key-value pairs are declared by  the syntax <key>:<value>\n",
    "    'key2':'value2'                 # Multiple key-value pairs are separated by a comma\n",
    "}"
   ]
  },
  {
   "attachments": {},
   "cell_type": "markdown",
   "metadata": {},
   "source": [
    "#### Lookup a key"
   ]
  },
  {
   "cell_type": "code",
   "execution_count": 2,
   "metadata": {},
   "outputs": [
    {
     "name": "stdout",
     "output_type": "stream",
     "text": [
      "The value stored in the dictionary for the key 'key1' is 'value1'\n"
     ]
    }
   ],
   "source": [
    "# Let's say I wanna see what information dictionary has about 'key1'\n",
    "# We 'lookup' key1 by using square brackets\n",
    "key = 'key1'\n",
    "value_of_key_1 = dictionary[key]\n",
    "print(f'The value stored in the dictionary for the key {repr(key)} is {repr(value_of_key_1)}')\n"
   ]
  },
  {
   "cell_type": "code",
   "execution_count": 3,
   "metadata": {},
   "outputs": [
    {
     "ename": "KeyError",
     "evalue": "'hahhahahahha'",
     "output_type": "error",
     "traceback": [
      "\u001b[1;31m---------------------------------------------------------------------------\u001b[0m",
      "\u001b[1;31mKeyError\u001b[0m                                  Traceback (most recent call last)",
      "\u001b[1;32mc:\\Users\\raghu\\python-drills\\07_dictionaries.ipynb Cell 6\u001b[0m in \u001b[0;36m<cell line: 3>\u001b[1;34m()\u001b[0m\n\u001b[0;32m      <a href='vscode-notebook-cell:/c%3A/Users/raghu/python-drills/07_dictionaries.ipynb#W5sZmlsZQ%3D%3D?line=0'>1</a>\u001b[0m \u001b[39m## NOTE: If a key does not exist in the dictionary, you WILL get a KeyError\u001b[39;00m\n\u001b[0;32m      <a href='vscode-notebook-cell:/c%3A/Users/raghu/python-drills/07_dictionaries.ipynb#W5sZmlsZQ%3D%3D?line=1'>2</a>\u001b[0m key \u001b[39m=\u001b[39m \u001b[39m'\u001b[39m\u001b[39mhahhahahahha\u001b[39m\u001b[39m'\u001b[39m\n\u001b[1;32m----> <a href='vscode-notebook-cell:/c%3A/Users/raghu/python-drills/07_dictionaries.ipynb#W5sZmlsZQ%3D%3D?line=2'>3</a>\u001b[0m value_of_key_1 \u001b[39m=\u001b[39m dictionary[key]\n",
      "\u001b[1;31mKeyError\u001b[0m: 'hahhahahahha'"
     ]
    }
   ],
   "source": [
    "## NOTE: If a key does not exist in the dictionary, you WILL get a KeyError\n",
    "key = 'hahhahahahha'\n",
    "value_of_key_1 = dictionary[key]\n"
   ]
  },
  {
   "cell_type": "code",
   "execution_count": 4,
   "metadata": {},
   "outputs": [
    {
     "name": "stdout",
     "output_type": "stream",
     "text": [
      "When I searched dictionary for the key hahhahahahha using .get() with one parameter, I got None\n",
      "When I searched dictionary for the key hahhahahahha using .get() with two parameters, I got 'E R R O R hahahahahha'\n"
     ]
    }
   ],
   "source": [
    "## You can avoid the key error by using the \"soft\" retrieval function -> .get()\n",
    "key = 'hahhahahahha'\n",
    "\n",
    "\n",
    "value_using_dot_get_1 = dictionary.get(key)   # If key is not in the dictionary, .get() returns None         \n",
    "print(f'When I searched dictionary for the key {key} using .get() with one parameter, I got {repr(value_using_dot_get_1)}')\n",
    "\n",
    "## You can pass a second parameter to .get() so that it returns a default value instead of None\n",
    "default_value = 'E R R O R hahahahahha'\n",
    "value_using_dot_get_2 = dictionary.get(key, default_value)\n",
    "\n",
    "print(f'When I searched dictionary for the key {key} using .get() with two parameters, I got {repr(value_using_dot_get_2)}')\n"
   ]
  },
  {
   "attachments": {},
   "cell_type": "markdown",
   "metadata": {},
   "source": [
    "#### Adding to a dictionary \n",
    "\n",
    "Since we can add to a dictionary - note that dictionaries are mutable "
   ]
  },
  {
   "cell_type": "code",
   "execution_count": 5,
   "metadata": {},
   "outputs": [
    {
     "name": "stdout",
     "output_type": "stream",
     "text": [
      "Alphabets originally looks like this : {'A': 2, 'B': 52, 'C': 12}\n",
      "\n",
      "After the previous statement, \"alphabets['D'] = 13\", alphabets now looks like {'A': 2, 'B': 52, 'C': 12, 'D': 13}\n",
      "\n",
      "After the previous statement, \"alphabets['C'] = 40\", alphabets now looks like {'A': 2, 'B': 52, 'C': 40, 'D': 13}\n",
      "\n"
     ]
    }
   ],
   "source": [
    "# One doesn't \"add\" to a dictionary more so as SET the value for a key in a dictionary. \n",
    "alphabets = {'A':2,'B':52,'C':12}\n",
    "print(f\"Alphabets originally looks like this : {alphabets}\\n\")\n",
    "# If i wanted to ADD 'D':13 \n",
    "alphabets['D'] = 13\n",
    "print(f'''After the previous statement, \"alphabets['D'] = 13\", alphabets now looks like {alphabets}\\n''')\n",
    "\n",
    "# Change an existing value (syntax is exactly the same!)\n",
    "alphabets['C'] = 40\n",
    "print(f'''After the previous statement, \"alphabets['C'] = 40\", alphabets now looks like {alphabets}\\n''')\n"
   ]
  },
  {
   "attachments": {},
   "cell_type": "markdown",
   "metadata": {},
   "source": [
    "## Dictionary as an iterable"
   ]
  },
  {
   "attachments": {},
   "cell_type": "markdown",
   "metadata": {},
   "source": [
    "Dictionaries implement Iterable, which means statements like \n",
    "` for x in <dictionary>` or `if x in <dictionary>` are valid.\n",
    "However, due to the uniqueness of the dictionary data type, not all methods or things you can do with a list/tuple/string\n",
    "are valid here. How is this iterable functionality implemented? \n",
    "\n",
    "Put simply, dictionaries are like if list/tuple/strings were indexed by keys instead of by numbers/positions (0,1,2,3).  \n",
    "\n",
    "\n"
   ]
  },
  {
   "cell_type": "code",
   "execution_count": 6,
   "metadata": {},
   "outputs": [
    {
     "name": "stdout",
     "output_type": "stream",
     "text": [
      "LOOK I AM ITERATING OVER THE KEYS. This time its 'alpha'\n",
      "LOOK I AM ITERATING OVER THE KEYS. This time its 'beta'\n",
      "LOOK I AM ITERATING OVER THE KEYS. This time its 'gamma'\n"
     ]
    }
   ],
   "source": [
    "example_dictionary = {'alpha':1,'beta':2,'gamma':3}\n",
    "\n",
    "for k in example_dictionary: \n",
    "    print(f'LOOK I AM ITERATING OVER THE KEYS. This time its {repr(k)}')"
   ]
  },
  {
   "cell_type": "code",
   "execution_count": 7,
   "metadata": {},
   "outputs": [
    {
     "name": "stdout",
     "output_type": "stream",
     "text": [
      "This conditional is False because the statement is checking its KEYS\n"
     ]
    }
   ],
   "source": [
    "conditional = 3 in example_dictionary\n",
    "print(f'This conditional is {conditional} because the statement is checking its KEYS' )"
   ]
  },
  {
   "cell_type": "code",
   "execution_count": 8,
   "metadata": {},
   "outputs": [
    {
     "name": "stdout",
     "output_type": "stream",
     "text": [
      "The type of dict_keys is <class 'dict_keys'> and of dict_values is <class 'dict_values'>\n",
      "This time the key is : alpha\n",
      "This time the key is : beta\n",
      "This time the key is : gamma\n",
      "This time the key is : 1\n",
      "This time the key is : 2\n",
      "This time the key is : 3\n"
     ]
    }
   ],
   "source": [
    "# Certain functions allow you to iterate over just the keys: \n",
    "dict_keys =  example_dictionary.keys()              # Iterator object that gives keys one at a time\n",
    "dict_values = example_dictionary.values()           # Iteator object that gives values one at a time \n",
    "\n",
    "# The difference between a regular list and an iterator object is covered later, but there is an important difference\n",
    "\n",
    "print(f'The type of dict_keys is {type(dict_keys)} and of dict_values is {type(dict_values)}')\n",
    "\n",
    "for k in dict_keys:         # This is literally the exact same as for k in example_dictionary\n",
    "    print(f'This time the key is : {k}')\n",
    "\n",
    "for k in dict_values:         # This is literally the exact same as for k in example_dictionary\n",
    "    print(f'This time the key is : {k}')"
   ]
  },
  {
   "attachments": {},
   "cell_type": "markdown",
   "metadata": {},
   "source": [
    "But how can we iterate over both keys and values at the same time?   \n",
    "(Challenge yourself, don't look at the next cell and try to do it with just iterating over example_dictionary)"
   ]
  },
  {
   "cell_type": "code",
   "execution_count": 9,
   "metadata": {},
   "outputs": [
    {
     "name": "stdout",
     "output_type": "stream",
     "text": [
      "See now we got the key: 'alpha' and the value: 1 in the same loop\n",
      "See now we got the key: 'beta' and the value: 2 in the same loop\n",
      "See now we got the key: 'gamma' and the value: 3 in the same loop\n"
     ]
    }
   ],
   "source": [
    "# We can use just the keys to get the values in the same loop\n",
    "for key in example_dictionary:\n",
    "    value = example_dictionary[key]\n",
    "    print(f'See now we got the key: {repr(key)} and the value: {repr(value)} in the same loop')\n",
    "\n",
    "# This is the format that you will have to use in most languages (acceptable in Python too)"
   ]
  },
  {
   "cell_type": "code",
   "execution_count": 10,
   "metadata": {},
   "outputs": [
    {
     "name": "stdout",
     "output_type": "stream",
     "text": [
      "In this iteration, pair is a <class 'tuple'> that looks like ('alpha', 1)\n",
      "In this iteration, pair is a <class 'tuple'> that looks like ('beta', 2)\n",
      "In this iteration, pair is a <class 'tuple'> that looks like ('gamma', 3)\n"
     ]
    }
   ],
   "source": [
    "# More Pythonic way is to use .items()\n",
    "# Items is an iterator object that returns a tuple containing the key value pair \n",
    "# on each iteration\n",
    "for pair in example_dictionary.items():\n",
    "    print(f'In this iteration, pair is a {type(pair)} that looks like {repr(pair)}' )\n",
    "\n",
    "# So we can get key value like this: \n",
    "for pair in example_dictionary.items(): \n",
    "    key, value = pair \n",
    "# But wait... "
   ]
  },
  {
   "cell_type": "code",
   "execution_count": 11,
   "metadata": {},
   "outputs": [
    {
     "name": "stdout",
     "output_type": "stream",
     "text": [
      "THIS ITERATION: The key is 'alpha' and the value is 1\n",
      "THIS ITERATION: The key is 'beta' and the value is 2\n",
      "THIS ITERATION: The key is 'gamma' and the value is 3\n"
     ]
    }
   ],
   "source": [
    "## Recognize the above pattern.\n",
    "#  We are taking in a list/tuple every time we iterate, and then unpacking it inside the for loop\n",
    "#  This is the pythonic way to write this code, unpacking as we iterate in one step : \n",
    "for key, value in example_dictionary.items():\n",
    "    print(f'THIS ITERATION: The key is {repr(key)} and the value is {repr(value)}')"
   ]
  },
  {
   "attachments": {},
   "cell_type": "markdown",
   "metadata": {},
   "source": [
    "Modified Iterable Methods"
   ]
  },
  {
   "cell_type": "code",
   "execution_count": 12,
   "metadata": {},
   "outputs": [
    {
     "name": "stdout",
     "output_type": "stream",
     "text": [
      "HERE capitols looks like {'Texas': 'Austin', 'Montana': 'Helena', 'Michigan': 'Detroit'}\n",
      "Now that we have popped Texas from capitols, it looks like this: {'Montana': 'Helena', 'Michigan': 'Detroit'}\n"
     ]
    }
   ],
   "source": [
    "capitols = {'Texas':'Austin','Montana':'Helena','Michigan':'Detroit'}\n",
    "print(f'HERE capitols looks like {capitols}')\n",
    "key_to_pop = 'Texas'\n",
    "value = capitols.pop('Texas')           \n",
    "# just like .pop() from lists, this is equivalent to \n",
    "# value = another_dict.get('Texas')\n",
    "# del another_dict['Texas']\n",
    "print(f\"Now that we have popped {key_to_pop} from capitols, it looks like this: {capitols}\")\n",
    "\n"
   ]
  },
  {
   "cell_type": "code",
   "execution_count": 13,
   "metadata": {},
   "outputs": [
    {
     "name": "stdout",
     "output_type": "stream",
     "text": [
      "Capitols is initially: {'Texas': 'Austin', 'Montana': 'Helena', 'Michigan': 'Detroit'}\n",
      "Updated captiols is now {'Texas': 'Austin', 'Montana': 'Helena', 'Michigan': 'Lansing', 'Louisiana': 'Baton Rouge', 'Utah': 'Salt Lake City'}\n"
     ]
    }
   ],
   "source": [
    "capitols = {'Texas':'Austin','Montana':'Helena','Michigan':'Detroit'}\n",
    "new_capitols = {'Louisiana':'Baton Rouge','Michigan':'Lansing','Utah':'Salt Lake City'}\n",
    "print(f'Capitols is initially: {capitols}')\n",
    "# This is the dictionary equivalent of the list .extend() function\n",
    "# Unlike lists which can have repeats, dictionary keys CANNOT. As such, it is .update() with the new values OVERWRITING the old\n",
    "capitols.update(new_capitols)                       \n",
    "print(f'Updated captiols is now {capitols}')    # This is "
   ]
  },
  {
   "cell_type": "code",
   "execution_count": 14,
   "metadata": {},
   "outputs": [
    {
     "name": "stdout",
     "output_type": "stream",
     "text": [
      " Capitols is:\n",
      "{'Texas': 'Austin', 'Montana': 'Helena', 'Michigan': 'Lansing', 'Louisiana': 'Baton Rouge', 'Utah': 'Salt Lake City'}\n",
      "\n",
      "\n",
      "even_more_capitols is :\n",
      "{'Arizona': 'Phoenix', 'New York': 'Albany'}\n",
      "\n",
      "\n",
      "When i merge them using | , I get a NEW dictionary (not inplace) that looks like: \n",
      "{'Texas': 'Austin', 'Montana': 'Helena', 'Michigan': 'Lansing', 'Louisiana': 'Baton Rouge', 'Utah': 'Salt Lake City', 'Arizona': 'Phoenix', 'New York': 'Albany'}\n",
      "\n"
     ]
    }
   ],
   "source": [
    "# In Python 3.9 + we can merge two dictionaries to create a new one (rather than updating inplace)\n",
    "import sys \n",
    "assert sys.version_info.major == 3 and sys.version_info.minor >= 9 \n",
    "\n",
    "even_more_capitols = {'Arizona':'Phoenix', 'New York':'Albany'}\n",
    "\n",
    "merge_dict = capitols | even_more_capitols\n",
    "\n",
    "\n",
    "print(f\"\"\" Capitols is:\n",
    "{capitols}\\n\\n\n",
    "even_more_capitols is :\n",
    "{even_more_capitols}\\n\\n\n",
    "When i merge them using | , I get a NEW dictionary (not inplace) that looks like: \n",
    "{merge_dict}\n",
    "\"\"\")\n"
   ]
  },
  {
   "cell_type": "code",
   "execution_count": 15,
   "metadata": {},
   "outputs": [],
   "source": [
    "# TODO: If you are using python 3.9 +\n",
    "import sys \n",
    "assert sys.version_info.major == 3 and sys.version_info.minor >= 9 \n",
    "\n",
    "# Now that you've gotten used to some Python slang... \n",
    "dict_a = {'TV': 500, 'Webcam':99, 'Mouse':29, 'Headphones':24}\n",
    "dict_b = {'Headphones':124, 'Microphone':150}\n",
    "\n",
    "# NOTE: what do you think this does :) \n",
    "dict_a |= dict_b"
   ]
  }
 ],
 "metadata": {
  "kernelspec": {
   "display_name": "base",
   "language": "python",
   "name": "python3"
  },
  "language_info": {
   "codemirror_mode": {
    "name": "ipython",
    "version": 3
   },
   "file_extension": ".py",
   "mimetype": "text/x-python",
   "name": "python",
   "nbconvert_exporter": "python",
   "pygments_lexer": "ipython3",
   "version": "3.9.12"
  },
  "orig_nbformat": 4,
  "vscode": {
   "interpreter": {
    "hash": "a0d540e4747513a65e87964975f7c81fb7d18508ffc1a8c72ca7d81f5952c4de"
   }
  }
 },
 "nbformat": 4,
 "nbformat_minor": 2
}
