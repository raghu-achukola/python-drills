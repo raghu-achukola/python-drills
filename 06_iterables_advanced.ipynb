{
 "cells": [
  {
   "attachments": {},
   "cell_type": "markdown",
   "metadata": {},
   "source": [
    "# Unpacking"
   ]
  },
  {
   "cell_type": "code",
   "execution_count": 1,
   "metadata": {},
   "outputs": [],
   "source": [
    "from pytutorial import br,bg"
   ]
  },
  {
   "cell_type": "code",
   "execution_count": 2,
   "metadata": {},
   "outputs": [
    {
     "name": "stdout",
     "output_type": "stream",
     "text": [
      "After unpacking we have the following variables\n",
      "name: \u001b[1m\u001b[92m'apple juice'\u001b[0m\u001b[0m\n",
      "size: \u001b[1m\u001b[92m300\u001b[0m\u001b[0m\n",
      "brand: \u001b[1m\u001b[92m'Tropicana'\u001b[0m\u001b[0m\n",
      "price: \u001b[1m\u001b[92m1.99\u001b[0m\u001b[0m\n",
      "in_stock: \u001b[1m\u001b[92mFalse\u001b[0m\u001b[0m\n",
      "\n"
     ]
    },
    {
     "ename": "ValueError",
     "evalue": "too many values to unpack (expected 5)",
     "output_type": "error",
     "traceback": [
      "\u001b[1;31m---------------------------------------------------------------------------\u001b[0m",
      "\u001b[1;31mValueError\u001b[0m                                Traceback (most recent call last)",
      "\u001b[1;32mc:\\Users\\raghu\\python-drills\\06_iterables_advanced.ipynb Cell 3\u001b[0m in \u001b[0;36m<cell line: 29>\u001b[1;34m()\u001b[0m\n\u001b[0;32m     <a href='vscode-notebook-cell:/c%3A/Users/raghu/python-drills/06_iterables_advanced.ipynb#W2sZmlsZQ%3D%3D?line=15'>16</a>\u001b[0m \u001b[39mprint\u001b[39m(\u001b[39mf\u001b[39m\u001b[39m\"\"\"\u001b[39m\u001b[39mAfter unpacking we have the following variables\u001b[39m\n\u001b[0;32m     <a href='vscode-notebook-cell:/c%3A/Users/raghu/python-drills/06_iterables_advanced.ipynb#W2sZmlsZQ%3D%3D?line=16'>17</a>\u001b[0m \u001b[39mname: \u001b[39m\u001b[39m{\u001b[39;00mbg(name)\u001b[39m}\u001b[39;00m\n\u001b[0;32m     <a href='vscode-notebook-cell:/c%3A/Users/raghu/python-drills/06_iterables_advanced.ipynb#W2sZmlsZQ%3D%3D?line=17'>18</a>\u001b[0m \u001b[39msize: \u001b[39m\u001b[39m{\u001b[39;00mbg(size)\u001b[39m}\u001b[39;00m\n\u001b[1;32m   (...)\u001b[0m\n\u001b[0;32m     <a href='vscode-notebook-cell:/c%3A/Users/raghu/python-drills/06_iterables_advanced.ipynb#W2sZmlsZQ%3D%3D?line=20'>21</a>\u001b[0m \u001b[39min_stock: \u001b[39m\u001b[39m{\u001b[39;00mbg(in_stock)\u001b[39m}\u001b[39;00m\n\u001b[0;32m     <a href='vscode-notebook-cell:/c%3A/Users/raghu/python-drills/06_iterables_advanced.ipynb#W2sZmlsZQ%3D%3D?line=21'>22</a>\u001b[0m \u001b[39m\"\"\"\u001b[39m)\n\u001b[0;32m     <a href='vscode-notebook-cell:/c%3A/Users/raghu/python-drills/06_iterables_advanced.ipynb#W2sZmlsZQ%3D%3D?line=24'>25</a>\u001b[0m \u001b[39m# Note however, that the list-index syntax here still works if the length of bundle is > 5 \u001b[39;00m\n\u001b[0;32m     <a href='vscode-notebook-cell:/c%3A/Users/raghu/python-drills/06_iterables_advanced.ipynb#W2sZmlsZQ%3D%3D?line=25'>26</a>\u001b[0m \u001b[39m# (what happens if thelength bundle is less than 5? can you guess?)\u001b[39;00m\n\u001b[0;32m     <a href='vscode-notebook-cell:/c%3A/Users/raghu/python-drills/06_iterables_advanced.ipynb#W2sZmlsZQ%3D%3D?line=26'>27</a>\u001b[0m \n\u001b[0;32m     <a href='vscode-notebook-cell:/c%3A/Users/raghu/python-drills/06_iterables_advanced.ipynb#W2sZmlsZQ%3D%3D?line=27'>28</a>\u001b[0m \u001b[39m# On the other hand, the unpacking syntax WONT work and you will get a value error (see below)\u001b[39;00m\n\u001b[1;32m---> <a href='vscode-notebook-cell:/c%3A/Users/raghu/python-drills/06_iterables_advanced.ipynb#W2sZmlsZQ%3D%3D?line=28'>29</a>\u001b[0m name6,size6,brand6,price6,in_stock6 \u001b[39m=\u001b[39m bundle_6\n",
      "\u001b[1;31mValueError\u001b[0m: too many values to unpack (expected 5)"
     ]
    }
   ],
   "source": [
    "# A really cool syntax for iterables is the syntax of UNPACKING + REPACKING\n",
    "# Let's say we have a bundle (a tuple, to be exact) of 5 items\n",
    "bundle = ('apple juice',300,'Tropicana',1.99, False)\n",
    "bundle_6 = ('apple juice',300,'Tropicana',1.99,False, '2023-03-02')\n",
    "# If we need all five of these values to go into variables we could do the tedious route:\n",
    "name = bundle[0]\n",
    "size = bundle[1]\n",
    "brand = bundle[2]\n",
    "price = bundle[3]\n",
    "in_stock = bundle[4]\n",
    "\n",
    "# OR: we can use unpacking syntax\n",
    "name,size,brand,price,in_stock = bundle\n",
    "\n",
    "# The above two code blocks do the EXACT SAME THING in this case(however, read on)\n",
    "print(f\"\"\"After unpacking we have the following variables\n",
    "name: {bg(name)}\n",
    "size: {bg(size)}\n",
    "brand: {bg(brand)}\n",
    "price: {bg(price)}\n",
    "in_stock: {bg(in_stock)}\n",
    "\"\"\")\n",
    "\n",
    "\n",
    "# Note however, that the list-index syntax here still works if the length of bundle is > 5 \n",
    "# (what happens if thelength bundle is less than 5? can you guess?)\n",
    "\n",
    "# On the other hand, the unpacking syntax WONT work and you will get a value error (see below)\n",
    "name6,size6,brand6,price6,in_stock6 = bundle_6\n",
    "# This syntax ^ statest explicitly bundle_6 is an iterable of length 5 and i want these variables to capture all of it. "
   ]
  },
  {
   "cell_type": "code",
   "execution_count": 3,
   "metadata": {},
   "outputs": [
    {
     "data": {
      "text/plain": [
       "tuple"
      ]
     },
     "execution_count": 3,
     "metadata": {},
     "output_type": "execute_result"
    }
   ],
   "source": [
    "# Note that the unpacking syntax works  because it \"reads\" it like a tuple \n",
    "a = 1,2,3,4\n",
    "type(a)"
   ]
  },
  {
   "cell_type": "code",
   "execution_count": 4,
   "metadata": {},
   "outputs": [
    {
     "name": "stdout",
     "output_type": "stream",
     "text": [
      "Wrong, this is just simple assignment! b is now \u001b[1m\u001b[91m[20]\u001b[0m\u001b[0m\n",
      "\n",
      "Because we put that comma in the left, the left hand side is considered a tuple so we can do unpacking \n",
      "that_element is now a \u001b[1m\u001b[92m<class 'int'>\u001b[0m\u001b[0m: \u001b[1m\u001b[92m20\u001b[0m\u001b[0m\n"
     ]
    }
   ],
   "source": [
    "# Unpacking a one-element list/tuple\n",
    "one_element_list = [20]\n",
    "\n",
    "# Okay, so by unpacking syntax we should be able to do something like  right? \n",
    "b = one_element_list\n",
    "print(f\"Wrong, this is just simple assignment! b is now {br(b)}\", end = '\\n\\n')\n",
    "# To do this right, we have to distinguish between \"give me the whole list\" (simple assignment)\n",
    "# and unpacking syntax \n",
    "\n",
    "that_element, = one_element_list\n",
    "print(f\"Because we put that comma in the left, the left hand side is considered a tuple so we can do unpacking \")\n",
    "print(f'that_element is now a {bg(type(that_element))}: {bg(that_element)}')"
   ]
  },
  {
   "cell_type": "code",
   "execution_count": 5,
   "metadata": {},
   "outputs": [
    {
     "name": "stdout",
     "output_type": "stream",
     "text": [
      "d is now a \u001b[1m\u001b[91m<class 'list'>\u001b[0m\u001b[0m :  \u001b[1m\u001b[91m[1, 'hi']\u001b[0m\u001b[0m\n",
      "\n"
     ]
    }
   ],
   "source": [
    "# REPACKING syntax exists as well \n",
    "a = 1\n",
    "b = 'hi'\n",
    "*d, = a,b       # Star is the unpacking operator       \n",
    "\n",
    "print(f'd is now a {br(type(d))} :  {br(d)}', end = '\\n\\n')\n",
    "\n",
    "# Okay but this is needless confusing, if you want to put x elements in a list just use\n",
    "d = [a,b]\n",
    "\n",
    "# The reason we show this syntax will be apparent in the next few cells"
   ]
  },
  {
   "cell_type": "code",
   "execution_count": 6,
   "metadata": {},
   "outputs": [
    {
     "name": "stdout",
     "output_type": "stream",
     "text": [
      "\u001b[1m\u001b[91mValueError('too many values to unpack (expected 4)')\u001b[0m\u001b[0m\n",
      "In one line we have unpacked the list so that it looks like this: \n",
      "Winner : \u001b[1m\u001b[92m'Kansas City Chiefs'\u001b[0m\u001b[0m\n",
      "Winner_score : \u001b[1m\u001b[92m23\u001b[0m\u001b[0m\n",
      "Loser : \u001b[1m\u001b[92m'Cincinnati Bengals'\u001b[0m\u001b[0m\n",
      "Loser_score : \u001b[1m\u001b[92m20\u001b[0m\u001b[0m\n",
      "Game_data : \u001b[1m\u001b[92m['Arrowhead Stadium', '2023-01-29', 'Playoffs']\u001b[0m\u001b[0m\n",
      "\n"
     ]
    }
   ],
   "source": [
    "# The reason we demo this syntax because it is the foundation of more complex assignment \n",
    "# Lets say we wanted to have the functionality where we unpack the first three elements of a list and capture the rest in a new list\n",
    "\n",
    "result = ['Kansas City Chiefs',23, 20, 'Cincinnati Bengals', 'Arrowhead Stadium', '2023-01-29', 'Playoffs']\n",
    "try: \n",
    "    winner,winner_score,loser_score,loser = result\n",
    "except ValueError as ve: \n",
    "    print(br(ve))\n",
    "\n",
    "# We can \"repack\" the rest of the data into a list so we don't get an error (notice the *)\n",
    "winner,winner_score,loser_score,loser, *game_data = result      # store the first 4 elements of result into 1 value\n",
    "# Equivalent to \n",
    "# winner = result[0]        winner_score = result[1]        loser_score = result[2]         loser = result[3]\n",
    "# game_data = result[4:]\n",
    "\n",
    "print(f\"\"\"In one line we have unpacked the list so that it looks like this: \n",
    "Winner : {bg(winner)}\n",
    "Winner_score : {bg(winner_score)}\n",
    "Loser : {bg(loser)}\n",
    "Loser_score : {bg(loser_score)}\n",
    "Game_data : {bg(game_data)}\n",
    "\"\"\")"
   ]
  }
 ],
 "metadata": {
  "kernelspec": {
   "display_name": "base",
   "language": "python",
   "name": "python3"
  },
  "language_info": {
   "codemirror_mode": {
    "name": "ipython",
    "version": 3
   },
   "file_extension": ".py",
   "mimetype": "text/x-python",
   "name": "python",
   "nbconvert_exporter": "python",
   "pygments_lexer": "ipython3",
   "version": "3.9.12"
  },
  "orig_nbformat": 4,
  "vscode": {
   "interpreter": {
    "hash": "a0d540e4747513a65e87964975f7c81fb7d18508ffc1a8c72ca7d81f5952c4de"
   }
  }
 },
 "nbformat": 4,
 "nbformat_minor": 2
}
