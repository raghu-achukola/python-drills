{
 "cells": [
  {
   "attachments": {},
   "cell_type": "markdown",
   "metadata": {},
   "source": [
    "# Other types"
   ]
  },
  {
   "cell_type": "code",
   "execution_count": 1,
   "metadata": {},
   "outputs": [],
   "source": [
    "from pytutorial import br,bg"
   ]
  },
  {
   "attachments": {},
   "cell_type": "markdown",
   "metadata": {},
   "source": [
    "### None"
   ]
  },
  {
   "cell_type": "code",
   "execution_count": 2,
   "metadata": {},
   "outputs": [
    {
     "name": "stdout",
     "output_type": "stream",
     "text": [
      "<class 'NoneType'>\n"
     ]
    }
   ],
   "source": [
    "# A frequently occuring type that we see is NoneType, which contains only the value None\n",
    "n = None\n",
    "print(type(n))"
   ]
  },
  {
   "attachments": {},
   "cell_type": "markdown",
   "metadata": {},
   "source": [
    "The idea of 'returning a value' is something that is discussed further in 10_functions.  \n",
    "The None type arose (usually called `null` or `nil` in other languages) due to the need to differentiate from 'real' return values"
   ]
  },
  {
   "cell_type": "code",
   "execution_count": 3,
   "metadata": {},
   "outputs": [
    {
     "name": "stdout",
     "output_type": "stream",
     "text": [
      "None\n"
     ]
    }
   ],
   "source": [
    "# Take the list method .append()\n",
    "orig_list = [1,2,3]\n",
    "orig_list.append(4)             # When you hover over .append() you should see the type hint (discussed in functions) that says it returns None\n",
    "#.append() works on the list and changes it. It does not spit back a value to the user. \n",
    "# As such the following code does not work as expected:\n",
    "\n",
    "x = orig_list.append(5) # yes 5 will be appended, but what the hell is x supposed to be? \n",
    "\n",
    "print(x)   \n"
   ]
  },
  {
   "cell_type": "code",
   "execution_count": 4,
   "metadata": {},
   "outputs": [],
   "source": [
    "# None values will NOT display in VS Code. If the last line of your code does NOT return a value (aka) returns None, nothing will be displayed\n",
    "n = None\n",
    "n"
   ]
  },
  {
   "cell_type": "code",
   "execution_count": 5,
   "metadata": {},
   "outputs": [
    {
     "name": "stdout",
     "output_type": "stream",
     "text": [
      "None\n"
     ]
    }
   ],
   "source": [
    "# If you have a single variable like n at the end of a Jupyter Notebook cell, and you run it and \"nothing displays\"\n",
    "# It is most likely because n is None. Use repr or print to see the value. \n",
    "print(n)"
   ]
  },
  {
   "cell_type": "code",
   "execution_count": 6,
   "metadata": {},
   "outputs": [
    {
     "name": "stdout",
     "output_type": "stream",
     "text": [
      "If-1 ran because some_output is NONE - some_output looks like \u001b[1m\u001b[92mNone\u001b[0m\u001b[0m\n",
      "Else-2 ran because other_output is NOT NONE - other_output looks like \u001b[1m\u001b[92m0\u001b[0m\u001b[0m\n"
     ]
    }
   ],
   "source": [
    "# We use 'is None/ is not None' to specifically check for None output: \n",
    "some_output = None\n",
    "other_output = 0 \n",
    "\n",
    "if some_output is None:\n",
    "    print(f'If-1 ran because some_output is NONE - some_output looks like {bg(some_output)}')\n",
    "else:\n",
    "    print(f'Else-1 ran because some_output is NOT NONE - some_output looks like {bg(some_output)}')\n",
    "\n",
    "if other_output is None:\n",
    "    print(f'If-2 ran because other_output is NONE - other_output looks like {bg(other_output)}')\n",
    "else: \n",
    "    print(f'Else-2 ran because other_output is NOT NONE - other_output looks like {bg(other_output)}')"
   ]
  },
  {
   "cell_type": "code",
   "execution_count": 7,
   "metadata": {},
   "outputs": [
    {
     "name": "stdout",
     "output_type": "stream",
     "text": [
      "\u001b[1m\u001b[91mNone\u001b[0m\u001b[0m is FALSY\n"
     ]
    }
   ],
   "source": [
    "# None is always falsy\n",
    "none_fls = None\n",
    "if none_fls:\n",
    "    print(f\"{br(none_fls)} is TRUTHY\")\n",
    "else:\n",
    "    print(f\"{br(none_fls)} is FALSY\")"
   ]
  },
  {
   "attachments": {},
   "cell_type": "markdown",
   "metadata": {},
   "source": [
    "## Set\n",
    "\n",
    "A set is a relatively infrequent data type used in Python, however they have some really useful features. Sets look like lists that never got the memo that `{}` are for dictionaries only. Sets are mutable"
   ]
  },
  {
   "cell_type": "code",
   "execution_count": 8,
   "metadata": {},
   "outputs": [
    {
     "name": "stdout",
     "output_type": "stream",
     "text": [
      "Since i declared this list with curly braces:\n",
      "\u001b[1m\u001b[91m{1, 2, 4, 5, 10}\u001b[0m\u001b[0m is a \u001b[1m\u001b[91m<class 'set'>\u001b[0m\u001b[0m\n"
     ]
    }
   ],
   "source": [
    "set_example = {1,2,4,5,10}\n",
    "print(f\"\"\"Since i declared this list with curly braces:\n",
    "{br(set_example)} is a {br(type(set_example))}\"\"\")"
   ]
  },
  {
   "attachments": {},
   "cell_type": "markdown",
   "metadata": {},
   "source": [
    "Sets can be thought of as analogous to JUST the keys of a dictionary (w no value). As such they are unique. The most common usecase for sets is turning a list of values which have duplicates into a set which only has unique numbers"
   ]
  },
  {
   "cell_type": "code",
   "execution_count": 9,
   "metadata": {},
   "outputs": [
    {
     "name": "stdout",
     "output_type": "stream",
     "text": [
      "dupli looks like \u001b[1m\u001b[91m[1, 1, 2, 2, 3, 4, 6, 6, 9]\u001b[0m\u001b[0m but when i converted it to a set...\n",
      "\u001b[1m\u001b[92m{1, 2, 3, 4, 6, 9}\u001b[0m\u001b[0m\n"
     ]
    }
   ],
   "source": [
    "dupli = [1,1,2,2,3,4,6,6,9]\n",
    "set_dupli = set(dupli)\n",
    "print(f\"dupli looks like {br(dupli)} but when i converted it to a set...\")\n",
    "print(bg(set_dupli))"
   ]
  },
  {
   "cell_type": "code",
   "execution_count": 10,
   "metadata": {},
   "outputs": [
    {
     "ename": "SyntaxError",
     "evalue": "invalid syntax (1894937325.py, line 3)",
     "output_type": "error",
     "traceback": [
      "\u001b[1;36m  Input \u001b[1;32mIn [10]\u001b[1;36m\u001b[0m\n\u001b[1;33m    assert len(set('Mississippi')) == #TODO: fill this in to pass the assertion - what would be the output of len(set('Mississippi')) and why?\u001b[0m\n\u001b[1;37m                                      ^\u001b[0m\n\u001b[1;31mSyntaxError\u001b[0m\u001b[1;31m:\u001b[0m invalid syntax\n"
     ]
    }
   ],
   "source": [
    "# TODO: as you are getting better with your Python slang... \n",
    "\n",
    "assert len(set('Mississippi')) == #TODO: fill this in to pass the assertion - what would be the output of len(set('Mississippi')) and why? "
   ]
  },
  {
   "attachments": {},
   "cell_type": "markdown",
   "metadata": {},
   "source": [
    "Note that extending this analogy of sets. You cannot get a specific value of a set because there is no index or keys for sets.\n",
    "You can check if a value is in the set using `in` and you can iterate over the set using `for` but the set itself is unordered"
   ]
  },
  {
   "attachments": {},
   "cell_type": "markdown",
   "metadata": {},
   "source": [
    "## Set Arithmetic"
   ]
  },
  {
   "cell_type": "code",
   "execution_count": 11,
   "metadata": {},
   "outputs": [
    {
     "name": "stdout",
     "output_type": "stream",
     "text": [
      "\u001b[1m\u001b[91m'Set Pets'\u001b[0m\u001b[0m: {'Iguanas', 'Parrots', 'Cats', 'Dogs', 'Guinea pig'}\n",
      "\u001b[1m\u001b[91m'Set Mammals'\u001b[0m\u001b[0m: {'Platypus', 'Humans', 'Cats', 'Dogs', 'Monkeys'}\n",
      "\n",
      "\n",
      "\u001b[1m\u001b[92m'Pets | Mammals'\u001b[0m\u001b[0m: {'Monkeys', 'Platypus', 'Dogs', 'Guinea pig', 'Humans', 'Parrots', 'Cats', 'Iguanas'}\n",
      "\u001b[1m\u001b[92m'Pets & Mammals'\u001b[0m\u001b[0m: {'Cats', 'Dogs'}\n",
      "\u001b[1m\u001b[92m'Pets - Mammals'\u001b[0m\u001b[0m : {'Parrots', 'Guinea pig', 'Iguanas'}\n",
      "\u001b[1m\u001b[92m'Mammals - Pets'\u001b[0m\u001b[0m: {'Humans', 'Platypus', 'Monkeys'}\n",
      "\u001b[1m\u001b[92m'Pets ^ Mammals'\u001b[0m\u001b[0m: {'Iguanas', 'Platypus', 'Monkeys', 'Humans', 'Parrots', 'Guinea pig'}\n"
     ]
    }
   ],
   "source": [
    "# Set Arithmetic is pretty snazzy:\n",
    "\n",
    "set_pets = {'Dogs','Cats','Iguanas','Parrots','Guinea pig'}\n",
    "set_mammals = {'Dogs','Monkeys','Cats','Humans','Platypus'}\n",
    "\n",
    "# Union of two sets (or)\n",
    "union_set = set_pets | set_mammals          # Notice the similarity with the merge operator for dictionarys\n",
    "# Intersection of two sets (and)\n",
    "intersection_set = set_pets & set_mammals      \n",
    "# Difference of one set from the other\n",
    "pets_minus_mammals = set_pets - set_mammals\n",
    "# Other way around? \n",
    "mammals_minus_pets = set_mammals - set_pets\n",
    "# Two way difference (exclusive or)\n",
    "xor_set = set_mammals ^ set_pets\n",
    "\n",
    "\n",
    "print(f\"{br('Set Pets')}: {set_pets}\")\n",
    "print(f\"{br('Set Mammals')}: {set_mammals}\\n\\n\")\n",
    "print(f\"{bg('Pets | Mammals')}: {union_set}\")\n",
    "print(f\"{bg('Pets & Mammals')}: {intersection_set}\")\n",
    "print(f\"{bg('Pets - Mammals')} : {pets_minus_mammals}\")\n",
    "print(f\"{bg('Mammals - Pets')}: {mammals_minus_pets}\")\n",
    "print(f\"{bg('Pets ^ Mammals')}: {xor_set}\")"
   ]
  }
 ],
 "metadata": {
  "kernelspec": {
   "display_name": "base",
   "language": "python",
   "name": "python3"
  },
  "language_info": {
   "codemirror_mode": {
    "name": "ipython",
    "version": 3
   },
   "file_extension": ".py",
   "mimetype": "text/x-python",
   "name": "python",
   "nbconvert_exporter": "python",
   "pygments_lexer": "ipython3",
   "version": "3.9.12"
  },
  "orig_nbformat": 4,
  "vscode": {
   "interpreter": {
    "hash": "a0d540e4747513a65e87964975f7c81fb7d18508ffc1a8c72ca7d81f5952c4de"
   }
  }
 },
 "nbformat": 4,
 "nbformat_minor": 2
}
