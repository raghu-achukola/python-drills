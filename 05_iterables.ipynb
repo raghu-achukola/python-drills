{
 "cells": [
  {
   "attachments": {},
   "cell_type": "markdown",
   "metadata": {},
   "source": [
    "# For loop \n"
   ]
  },
  {
   "attachments": {},
   "cell_type": "markdown",
   "metadata": {},
   "source": [
    "Python has syntax known as the for loop \n",
    "\n",
    "`for individual_object in list_of_objects`\n",
    "\n",
    "This structure cond"
   ]
  },
  {
   "cell_type": "code",
   "execution_count": 1,
   "metadata": {},
   "outputs": [
    {
     "name": "stdout",
     "output_type": "stream",
     "text": [
      "HELLO\n",
      "This time obj is equal to 'a'\n",
      "HELLO\n",
      "This time obj is equal to 5\n",
      "HELLO\n",
      "This time obj is equal to '7'\n",
      "HELLO\n",
      "This time obj is equal to 8\n"
     ]
    }
   ],
   "source": [
    "for obj in ['a',5,'7',8]:\n",
    "    print('HELLO')\n",
    "    print(f'This time obj is equal to {repr(obj)}')"
   ]
  },
  {
   "attachments": {},
   "cell_type": "markdown",
   "metadata": {},
   "source": [
    "for loop into another list: \n",
    "\n",
    "create an empty list  \n",
    "on each element  \n",
    "decide what to do with it,  \n",
    "and put the result into another list  \n"
   ]
  },
  {
   "cell_type": "markdown",
   "metadata": {},
   "source": [
    "Spend hours on this format if necessary, understand every nook and cranny of it"
   ]
  },
  {
   "cell_type": "code",
   "execution_count": 4,
   "metadata": {},
   "outputs": [
    {
     "name": "stdout",
     "output_type": "stream",
     "text": [
      "Currently on object a\n",
      "At this point in time, new_list looks like []\n",
      "Currently on object 5\n",
      "Condition satisfied for object 5 so adding it to list\n",
      "At this point in time, new_list looks like [5]\n",
      "Currently on object g\n",
      "At this point in time, new_list looks like [5]\n",
      "Currently on object 8\n",
      "Condition satisfied for object 8 so adding it to list\n",
      "At this point in time, new_list looks like [5, 8]\n",
      "New\n"
     ]
    }
   ],
   "source": [
    "\n",
    "new_list = []                                                    # VARIABLE DECLARATION\n",
    "for obj in ['a',5,'g',8]:                                        # ITERATOR STATEMENT \n",
    "    # For each element in that list do this: \n",
    "    print(f'Currently on object {obj}')\n",
    "    # if it is an integer\n",
    "    if type(obj) == int:                                         # CONDITION ON WHETHER TO ADD SOMETHING THIS ROUND\n",
    "        # Add it to the new list\n",
    "        print(f'Condition satisfied for object {obj} so adding it to list')\n",
    "        new_list.append(obj**2)                                     # WHAT TO ADD TO THE LIST (the thing inside new_list.append)\n",
    "    print(f'At this point in time, new_list looks like {new_list}')\n",
    "    \n",
    "print('New')"
   ]
  },
  {
   "cell_type": "code",
   "execution_count": 6,
   "metadata": {},
   "outputs": [
    {
     "name": "stdout",
     "output_type": "stream",
     "text": [
      "In one step new_list_comp looks like [25, 64]\n"
     ]
    }
   ],
   "source": [
    "new_list_comp = [] # [ <what to add to list> <iterator statement> <[optional] condition statement>]\n",
    "new_list_comp = [ obj**2 for obj in ['a',5,'g',8] if type(obj) == int]\n",
    "print(f'In one step new_list_comp looks like {new_list_comp}')"
   ]
  }
 ],
 "metadata": {
  "kernelspec": {
   "display_name": "base",
   "language": "python",
   "name": "python3"
  },
  "language_info": {
   "codemirror_mode": {
    "name": "ipython",
    "version": 3
   },
   "file_extension": ".py",
   "mimetype": "text/x-python",
   "name": "python",
   "nbconvert_exporter": "python",
   "pygments_lexer": "ipython3",
   "version": "3.9.12 (main, Apr  4 2022, 05:22:27) [MSC v.1916 64 bit (AMD64)]"
  },
  "orig_nbformat": 4,
  "vscode": {
   "interpreter": {
    "hash": "a0d540e4747513a65e87964975f7c81fb7d18508ffc1a8c72ca7d81f5952c4de"
   }
  }
 },
 "nbformat": 4,
 "nbformat_minor": 2
}
