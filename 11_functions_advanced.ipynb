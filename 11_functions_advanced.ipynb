{
 "cells": [
  {
   "attachments": {},
   "cell_type": "markdown",
   "metadata": {},
   "source": [
    "# Args and Kwargs, List and Dictionary Unpacking in Functions"
   ]
  },
  {
   "cell_type": "code",
   "execution_count": 7,
   "metadata": {},
   "outputs": [],
   "source": [
    "from pytutorial import br,bg,bws,bwr\n",
    "import datetime as dt\n",
    "import json"
   ]
  },
  {
   "cell_type": "code",
   "execution_count": 8,
   "metadata": {},
   "outputs": [],
   "source": [
    "# Take this example of a hater list writer function:\n",
    "# What it wants to do is take a json STRING, a list of objects\n",
    "# and create a dictionary that maps each key in the json String that exists in the list of objects\n",
    "# and set the value to \"YOU SUCK\"\n",
    "JSON_STRING = '''{\"0\": 43, \"TABLE\": \"HI\", \"2\":51, \"3\": \"HI\", \"4\": \"HI\", \"5\": \"HI\", \"6\": \"HI\", \"7\": \"HI\", \"8\": \"HI\", \"9\": \"HI\", \"10\": \"HI\", \"11\": \"HI\", \"12\": \"HI\", \"13\": \"HI\", \"14\": \"HI\", \"15\": \"HI\", \"16\": \"HI\", \"17\": \"HI\", \"18\": \"HI\", \"19\": \"HI\"}\n",
    "'''\n",
    "\n",
    "\n",
    "\n",
    "def you_suck(js:str, obj:list)-> dict:\n",
    "    json_dict = json.loads(js)\n",
    "    for hated in obj:\n",
    "        if hated in json_dict:\n",
    "            json_dict[hated] = 'YOU SUCK'\n",
    "\n",
    "    return json_dict"
   ]
  },
  {
   "cell_type": "code",
   "execution_count": 9,
   "metadata": {},
   "outputs": [
    {
     "name": "stdout",
     "output_type": "stream",
     "text": [
      "{'0': 43, 'TABLE': 'YOU SUCK', '2': 51, '3': 'HI', '4': 'HI', '5': 'HI', '6': 'HI', '7': 'HI', '8': 'HI', '9': 'HI', '10': 'HI', '11': 'HI', '12': 'HI', '13': 'HI', '14': 'HI', '15': 'YOU SUCK', '16': 'HI', '17': 'HI', '18': 'HI', '19': 'HI'}\n"
     ]
    }
   ],
   "source": [
    "# Now this is all good and fine: \n",
    "print(you_suck(JSON_STRING,['TABLE','15']))\n",
    "# Note that this function reads in the int VALUES as ints, but what if we want them as floats? "
   ]
  },
  {
   "cell_type": "code",
   "execution_count": 10,
   "metadata": {},
   "outputs": [
    {
     "name": "stdout",
     "output_type": "stream",
     "text": [
      "{'0': 43.0, 'TABLE': 'YOU SUCK', '2': 51.0, '3': 'HI', '4': 'HI', '5': 'HI', '6': 'HI', '7': 'HI', '8': 'HI', '9': 'HI', '10': 'HI', '11': 'HI', '12': 'YOU SUCK', '13': 'HI', '14': 'HI', '15': 'HI', '16': 'HI', '17': 'HI', '18': 'HI', '19': 'HI'}\n"
     ]
    }
   ],
   "source": [
    "# However, json.loads has a L O T of customizable optional features, \n",
    "# The full definition is shown below, including one like parse_int\n",
    "# We would like to be able to customize our function to pass in these arguments (in this case parse_int)\n",
    "s = '{}'\n",
    "json.loads(s,\n",
    "cls=None,\n",
    "object_hook=None,\n",
    "parse_float=None,\n",
    "parse_int=None,\n",
    "parse_constant=None,\n",
    "object_pairs_hook=None\n",
    ")\n",
    "\n",
    "\n",
    "# if we had to include all of these customizations in our function, it would get ugly\n",
    "\n",
    "def you_suck_customizable(js:str,obj:list,cls=None,object_hook=None,parse_float=None,parse_int=None,parse_constant=None,object_pairs_hook=None)->dict:\n",
    "    # YEESH THIS IS UGLY \n",
    "    json_dict = json.loads(js,cls=cls,object_hook=object_hook,parse_float=parse_float,parse_int=parse_int,parse_constant=parse_constant,object_pairs_hook=object_pairs_hook)\n",
    "    \n",
    "    for hated in obj:\n",
    "        if hated in json_dict:\n",
    "            json_dict[hated] = 'YOU SUCK'\n",
    "\n",
    "    return json_dict\n",
    "    # WOOF \n",
    "\n",
    "print(you_suck_customizable(JSON_STRING,['I','TABLE','12'],parse_int = float))"
   ]
  },
  {
   "attachments": {},
   "cell_type": "markdown",
   "metadata": {},
   "source": [
    "This works... but at what cost. "
   ]
  },
  {
   "attachments": {},
   "cell_type": "markdown",
   "metadata": {},
   "source": [
    "# THERE IS A BETTER WAY"
   ]
  },
  {
   "cell_type": "code",
   "execution_count": 11,
   "metadata": {},
   "outputs": [
    {
     "name": "stdout",
     "output_type": "stream",
     "text": [
      "\u001b[1m\u001b[93mManual Result\u001b[0m\u001b[0m\n",
      "{'metadata': {'stadium': '', 'date': '', 'playoffs': False}, 'winner': '49ers', 'loser': 'Cowboys', 'spread': 7, 'total': 31}\n"
     ]
    }
   ],
   "source": [
    "# Before disclosing it lets look back at a very useful iterable capability\n",
    "\n",
    "# Lets say I'm reading in a csv about game results \n",
    "result = ['Kansas City Chiefs',23, 20, 'Cincinnati Bengals', 'Arrowhead Stadium', '2023-01-29', 'Playoffs']\n",
    "\n",
    "# Let's say i have a really cool function that takes data in this format and does some stats: \n",
    "def result_to_dict(winner:str, winning_score:int, losing_score:int, loser:str, stadium = '', date = '', gametype = ''):\n",
    "    return {\n",
    "        'metadata': {'stadium':stadium, 'date':date, 'playoffs': gametype.upper() == 'PLAYOFFS'},\n",
    "        'winner': winner, \n",
    "        'loser':loser, \n",
    "        'spread':winning_score - losing_score,\n",
    "        'total': winning_score + losing_score\n",
    "    }\n",
    "\n",
    "\n",
    "# I can do pretty cool stuff manually \n",
    "print(bws('Manual Result'))\n",
    "print(result_to_dict('49ers', 19,12, 'Cowboys'))\n"
   ]
  },
  {
   "cell_type": "code",
   "execution_count": 12,
   "metadata": {},
   "outputs": [
    {
     "ename": "TypeError",
     "evalue": "result_to_dict() missing 3 required positional arguments: 'winning_score', 'losing_score', and 'loser'",
     "output_type": "error",
     "traceback": [
      "\u001b[1;31m---------------------------------------------------------------------------\u001b[0m",
      "\u001b[1;31mTypeError\u001b[0m                                 Traceback (most recent call last)",
      "\u001b[1;32mc:\\Users\\raghu\\python-drills\\11_functions_advanced.ipynb Cell 9\u001b[0m in \u001b[0;36m<cell line: 2>\u001b[1;34m()\u001b[0m\n\u001b[0;32m      <a href='vscode-notebook-cell:/c%3A/Users/raghu/python-drills/11_functions_advanced.ipynb#X13sZmlsZQ%3D%3D?line=0'>1</a>\u001b[0m \u001b[39m# But if I had to do it from the list... its kinda tedious. Again, I can't pass it just the list because it will take it as just one argument\u001b[39;00m\n\u001b[1;32m----> <a href='vscode-notebook-cell:/c%3A/Users/raghu/python-drills/11_functions_advanced.ipynb#X13sZmlsZQ%3D%3D?line=1'>2</a>\u001b[0m result_to_dict(result)\n",
      "\u001b[1;31mTypeError\u001b[0m: result_to_dict() missing 3 required positional arguments: 'winning_score', 'losing_score', and 'loser'"
     ]
    }
   ],
   "source": [
    "# But if I had to do it from the list... its kinda tedious. Again, I can't pass it just the list because it will take it as just one argument\n",
    "result_to_dict(result)\n"
   ]
  },
  {
   "cell_type": "code",
   "execution_count": 13,
   "metadata": {},
   "outputs": [
    {
     "name": "stdout",
     "output_type": "stream",
     "text": [
      "\u001b[1m\u001b[93mSimple Unpacking Result\u001b[0m\u001b[0m\n",
      "{'metadata': {'stadium': 'Arrowhead Stadium', 'date': '2023-01-29', 'playoffs': True}, 'winner': 'Kansas City Chiefs', 'loser': 'Cincinnati Bengals', 'spread': 3, 'total': 43}\n"
     ]
    }
   ],
   "source": [
    "# But other ways we learned are tedious too. Even with unpacking \n",
    "a,b,c,d,e,f,g  = result      # Unpack all values of the list \n",
    "print(bws('Simple Unpacking Result'))\n",
    "print(result_to_dict(a,b,c,d,e,f,g ))  # Yuck what an eyesore "
   ]
  },
  {
   "attachments": {},
   "cell_type": "markdown",
   "metadata": {},
   "source": [
    "### Welcome to Function unpacking "
   ]
  },
  {
   "cell_type": "code",
   "execution_count": 14,
   "metadata": {},
   "outputs": [
    {
     "name": "stdout",
     "output_type": "stream",
     "text": [
      "\u001b[1m\u001b[92m'Function unpacking'\u001b[0m\u001b[0m\n",
      "{'metadata': {'stadium': 'Arrowhead Stadium', 'date': '2023-01-29', 'playoffs': True}, 'winner': 'Kansas City Chiefs', 'loser': 'Cincinnati Bengals', 'spread': 3, 'total': 43}\n"
     ]
    }
   ],
   "source": [
    "# Instead of having to stress and write ugly code, we have an elegant way of doing those two steps ^ in one: \n",
    "print(bg('Function unpacking'))\n",
    "# We have a list that matches perfectly with our parameters, how do i just do this in one? \n",
    "\n",
    "jstring = result_to_dict(*result)               # FUNCTION_LIST_UNPACKING_SYNTAX\n",
    "print(jstring)                                  # wow so elegant"
   ]
  },
  {
   "attachments": {},
   "cell_type": "markdown",
   "metadata": {},
   "source": [
    "### Function definitions that take unpacking"
   ]
  },
  {
   "cell_type": "code",
   "execution_count": 15,
   "metadata": {},
   "outputs": [],
   "source": [
    "# Now lets say i wanna create a function called result_to_json which calls result_to_dict and then converts to json string\n",
    "# I could define it like this\n",
    "def result_to_json(res:list): \n",
    "    d = result_to_dict(*res)\n",
    "    return json.dumps(d)\n",
    "    "
   ]
  },
  {
   "cell_type": "code",
   "execution_count": 16,
   "metadata": {},
   "outputs": [
    {
     "name": "stdout",
     "output_type": "stream",
     "text": [
      "\u001b[1m\u001b[93m{\"metadata\": {\"stadium\": \"Arrowhead Stadium\", \"date\": \"2023-01-29\", \"playoffs\": true}, \"winner\": \"Kansas City Chiefs\", \"loser\": \"Cincinnati Bengals\", \"spread\": 3, \"total\": 43}\u001b[0m\u001b[0m\n",
      "However this is inefficient, because now I can no longer call result_to_json the way i call result_to_dict, manually with positional args\n"
     ]
    },
    {
     "ename": "TypeError",
     "evalue": "result_to_json() takes 1 positional argument but 4 were given",
     "output_type": "error",
     "traceback": [
      "\u001b[1;31m---------------------------------------------------------------------------\u001b[0m",
      "\u001b[1;31mTypeError\u001b[0m                                 Traceback (most recent call last)",
      "\u001b[1;32mc:\\Users\\raghu\\python-drills\\11_functions_advanced.ipynb Cell 15\u001b[0m in \u001b[0;36m<cell line: 4>\u001b[1;34m()\u001b[0m\n\u001b[0;32m      <a href='vscode-notebook-cell:/c%3A/Users/raghu/python-drills/11_functions_advanced.ipynb#X22sZmlsZQ%3D%3D?line=0'>1</a>\u001b[0m \u001b[39mprint\u001b[39m(bws(result_to_json(result)))\n\u001b[0;32m      <a href='vscode-notebook-cell:/c%3A/Users/raghu/python-drills/11_functions_advanced.ipynb#X22sZmlsZQ%3D%3D?line=1'>2</a>\u001b[0m \u001b[39mprint\u001b[39m(\u001b[39m'\u001b[39m\u001b[39mHowever this is inefficient, because now I can no longer call result_to_json the way i call result_to_dict, manually with positional args\u001b[39m\u001b[39m'\u001b[39m)\n\u001b[1;32m----> <a href='vscode-notebook-cell:/c%3A/Users/raghu/python-drills/11_functions_advanced.ipynb#X22sZmlsZQ%3D%3D?line=3'>4</a>\u001b[0m result_to_json(\u001b[39m'\u001b[39;49m\u001b[39m49ers\u001b[39;49m\u001b[39m'\u001b[39;49m, \u001b[39m19\u001b[39;49m,\u001b[39m12\u001b[39;49m, \u001b[39m'\u001b[39;49m\u001b[39mCowboys\u001b[39;49m\u001b[39m'\u001b[39;49m)\n",
      "\u001b[1;31mTypeError\u001b[0m: result_to_json() takes 1 positional argument but 4 were given"
     ]
    }
   ],
   "source": [
    "print(bws(result_to_json(result)))\n",
    "print('However this is inefficient, because now I can no longer call result_to_json the way i call result_to_dict, manually with positional args')\n",
    "\n",
    "result_to_json('49ers', 19,12, 'Cowboys')   # I have to put this in a list (blech)"
   ]
  },
  {
   "attachments": {},
   "cell_type": "markdown",
   "metadata": {},
   "source": [
    "#### Coup de grace"
   ]
  },
  {
   "cell_type": "code",
   "execution_count": 17,
   "metadata": {},
   "outputs": [
    {
     "name": "stdout",
     "output_type": "stream",
     "text": [
      "Now, I can do this\n",
      "Hi in this call , args is a \u001b[1m\u001b[93m<class 'tuple'>\u001b[0m\u001b[0m and looks like \u001b[1m\u001b[93m('49ers', 19, 12, 'Cowboys')\u001b[0m\u001b[0m \n",
      "The result is: \n",
      "\u001b[1m\u001b[92m'{\"metadata\": {\"stadium\": \"\", \"date\": \"\", \"playoffs\": false}, \"winner\": \"49ers\", \"loser\": \"Cowboys\", \"spread\": 7, \"total\": 31}'\u001b[0m\u001b[0m\n"
     ]
    }
   ],
   "source": [
    "# Python says treat urself, this is how you do that: \n",
    "def result_to_json_proper(*args): \n",
    "    # The unpacking operator \"swallows\" all positional arguments and PACKS it in a list called \"args\" (parameter named defined above)\n",
    "\n",
    "    # I can use args like a list: \n",
    "    print(f'Hi in this call , args is a {bws(type(args))} and looks like {bwr(args)} ')\n",
    "\n",
    "    # Or i can pass args down unpacked to another function, like so: \n",
    "    d = result_to_dict(*args)\n",
    "    return json.dumps(d)\n",
    "    \n",
    "print('Now, I can do this')\n",
    "proper = result_to_json_proper('49ers',19,12,'Cowboys')\n",
    "print('The result is: ')\n",
    "print(bg(proper))"
   ]
  },
  {
   "attachments": {},
   "cell_type": "markdown",
   "metadata": {},
   "source": [
    "## Returning to original example\n",
    "\n",
    "Armed with this knowledge we quickly do something like "
   ]
  },
  {
   "cell_type": "code",
   "execution_count": 18,
   "metadata": {},
   "outputs": [
    {
     "ename": "TypeError",
     "evalue": "loads() takes 1 positional argument but 7 were given",
     "output_type": "error",
     "traceback": [
      "\u001b[1;31m---------------------------------------------------------------------------\u001b[0m",
      "\u001b[1;31mTypeError\u001b[0m                                 Traceback (most recent call last)",
      "\u001b[1;32mc:\\Users\\raghu\\python-drills\\11_functions_advanced.ipynb Cell 19\u001b[0m in \u001b[0;36m<cell line: 13>\u001b[1;34m()\u001b[0m\n\u001b[0;32m     <a href='vscode-notebook-cell:/c%3A/Users/raghu/python-drills/11_functions_advanced.ipynb#X26sZmlsZQ%3D%3D?line=9'>10</a>\u001b[0m     \u001b[39mreturn\u001b[39;00m json_dict\n\u001b[0;32m     <a href='vscode-notebook-cell:/c%3A/Users/raghu/python-drills/11_functions_advanced.ipynb#X26sZmlsZQ%3D%3D?line=11'>12</a>\u001b[0m \u001b[39m# cls=None,object_hook=None,parse_float=None,parse_int=None,parse_constant=None,object_pairs_hook=None\u001b[39;00m\n\u001b[1;32m---> <a href='vscode-notebook-cell:/c%3A/Users/raghu/python-drills/11_functions_advanced.ipynb#X26sZmlsZQ%3D%3D?line=12'>13</a>\u001b[0m \u001b[39mprint\u001b[39m(you_suck_customizable_paramlist(JSON_STRING,[\u001b[39m'\u001b[39;49m\u001b[39mI\u001b[39;49m\u001b[39m'\u001b[39;49m,\u001b[39m'\u001b[39;49m\u001b[39mTABLE\u001b[39;49m\u001b[39m'\u001b[39;49m,\u001b[39m'\u001b[39;49m\u001b[39m12\u001b[39;49m\u001b[39m'\u001b[39;49m],\u001b[39mNone\u001b[39;49;00m,\u001b[39mNone\u001b[39;49;00m,\u001b[39mNone\u001b[39;49;00m,\u001b[39mfloat\u001b[39;49m,\u001b[39mNone\u001b[39;49;00m,\u001b[39mNone\u001b[39;49;00m))\n",
      "\u001b[1;32mc:\\Users\\raghu\\python-drills\\11_functions_advanced.ipynb Cell 19\u001b[0m in \u001b[0;36myou_suck_customizable_paramlist\u001b[1;34m(js, obj, *params)\u001b[0m\n\u001b[0;32m      <a href='vscode-notebook-cell:/c%3A/Users/raghu/python-drills/11_functions_advanced.ipynb#X26sZmlsZQ%3D%3D?line=2'>3</a>\u001b[0m \u001b[39mdef\u001b[39;00m \u001b[39myou_suck_customizable_paramlist\u001b[39m(js:\u001b[39mstr\u001b[39m,obj:\u001b[39mlist\u001b[39m, \u001b[39m*\u001b[39mparams)\u001b[39m-\u001b[39m\u001b[39m>\u001b[39m\u001b[39mdict\u001b[39m:\n\u001b[1;32m----> <a href='vscode-notebook-cell:/c%3A/Users/raghu/python-drills/11_functions_advanced.ipynb#X26sZmlsZQ%3D%3D?line=3'>4</a>\u001b[0m     json_dict \u001b[39m=\u001b[39m json\u001b[39m.\u001b[39;49mloads(js,\u001b[39m*\u001b[39;49mparams)\n\u001b[0;32m      <a href='vscode-notebook-cell:/c%3A/Users/raghu/python-drills/11_functions_advanced.ipynb#X26sZmlsZQ%3D%3D?line=5'>6</a>\u001b[0m     \u001b[39mfor\u001b[39;00m hated \u001b[39min\u001b[39;00m obj:\n\u001b[0;32m      <a href='vscode-notebook-cell:/c%3A/Users/raghu/python-drills/11_functions_advanced.ipynb#X26sZmlsZQ%3D%3D?line=6'>7</a>\u001b[0m         \u001b[39mif\u001b[39;00m hated \u001b[39min\u001b[39;00m json_dict:\n",
      "\u001b[1;31mTypeError\u001b[0m: loads() takes 1 positional argument but 7 were given"
     ]
    }
   ],
   "source": [
    "# So if we wanted to return to the original example \n",
    "# Our second line COULD BE \n",
    "def you_suck_customizable_paramlist(js:str,obj:list, *params)->dict:\n",
    "    json_dict = json.loads(js,*params)\n",
    "    \n",
    "    for hated in obj:\n",
    "        if hated in json_dict:\n",
    "            json_dict[hated] = 'YOU SUCK'\n",
    "\n",
    "    return json_dict\n",
    "\n",
    "# cls=None,object_hook=None,parse_float=None,parse_int=None,parse_constant=None,object_pairs_hook=None\n",
    "print(you_suck_customizable_paramlist(JSON_STRING,['I','TABLE','12'],None,None,None,float,None,None))\n",
    "\n",
    "# But this is also icky because of how we need to pass the parameters, and doesn't even work "
   ]
  },
  {
   "attachments": {},
   "cell_type": "markdown",
   "metadata": {},
   "source": [
    "This is because in the documentation for loads() they have a '*' after the first positional argument.  \n",
    "This swallows up all positional arguments after the first (see 10_functions)  \n",
    "They didn't want anyone referencing those 7 arguments positionally (god awful)    \n",
    "\n",
    "\n",
    "Are we doomed?"
   ]
  },
  {
   "attachments": {},
   "cell_type": "markdown",
   "metadata": {},
   "source": [
    "# Kwargs\n",
    "\n",
    "So wait... you want to run json.loads with custom parameters we set like `\"keyword_parameter\" = \"keyword_value\"` in the function definition? \n",
    "You want some kind of unpacking definition... but instead of unpacking arguments based on their `POSITION (index)` you want to unpack arguments \n",
    "based on what `KEY` they are based off of 🤔🤔🤔"
   ]
  },
  {
   "cell_type": "code",
   "execution_count": 19,
   "metadata": {},
   "outputs": [
    {
     "ename": "TypeError",
     "evalue": "loads() takes 1 positional argument but 2 positional arguments (and 3 keyword-only arguments) were given",
     "output_type": "error",
     "traceback": [
      "\u001b[1;31m---------------------------------------------------------------------------\u001b[0m",
      "\u001b[1;31mTypeError\u001b[0m                                 Traceback (most recent call last)",
      "\u001b[1;32mc:\\Users\\raghu\\python-drills\\11_functions_advanced.ipynb Cell 22\u001b[0m in \u001b[0;36m<cell line: 14>\u001b[1;34m()\u001b[0m\n\u001b[0;32m      <a href='vscode-notebook-cell:/c%3A/Users/raghu/python-drills/11_functions_advanced.ipynb#X32sZmlsZQ%3D%3D?line=6'>7</a>\u001b[0m params \u001b[39m=\u001b[39m {\n\u001b[0;32m      <a href='vscode-notebook-cell:/c%3A/Users/raghu/python-drills/11_functions_advanced.ipynb#X32sZmlsZQ%3D%3D?line=7'>8</a>\u001b[0m     \u001b[39m'\u001b[39m\u001b[39mparse_int\u001b[39m\u001b[39m'\u001b[39m:\u001b[39mfloat\u001b[39m,                  \u001b[39m# parse_int = float\u001b[39;00m\n\u001b[0;32m      <a href='vscode-notebook-cell:/c%3A/Users/raghu/python-drills/11_functions_advanced.ipynb#X32sZmlsZQ%3D%3D?line=8'>9</a>\u001b[0m     \u001b[39m'\u001b[39m\u001b[39mparse_constant\u001b[39m\u001b[39m'\u001b[39m: \u001b[39mstr\u001b[39m,              \u001b[39m# parse_constant = str\u001b[39;00m\n\u001b[0;32m     <a href='vscode-notebook-cell:/c%3A/Users/raghu/python-drills/11_functions_advanced.ipynb#X32sZmlsZQ%3D%3D?line=9'>10</a>\u001b[0m     \u001b[39m'\u001b[39m\u001b[39mobject_hook\u001b[39m\u001b[39m'\u001b[39m: \u001b[39mrepr\u001b[39m,                \u001b[39m# object_hook = repr\u001b[39;00m\n\u001b[0;32m     <a href='vscode-notebook-cell:/c%3A/Users/raghu/python-drills/11_functions_advanced.ipynb#X32sZmlsZQ%3D%3D?line=10'>11</a>\u001b[0m }\n\u001b[0;32m     <a href='vscode-notebook-cell:/c%3A/Users/raghu/python-drills/11_functions_advanced.ipynb#X32sZmlsZQ%3D%3D?line=12'>13</a>\u001b[0m \u001b[39m# and do this: \u001b[39;00m\n\u001b[1;32m---> <a href='vscode-notebook-cell:/c%3A/Users/raghu/python-drills/11_functions_advanced.ipynb#X32sZmlsZQ%3D%3D?line=13'>14</a>\u001b[0m kwargs_load \u001b[39m=\u001b[39m json\u001b[39m.\u001b[39mloads(JSON_STRING,[\u001b[39m'\u001b[39m\u001b[39mI\u001b[39m\u001b[39m'\u001b[39m,\u001b[39m'\u001b[39m\u001b[39mTABLE\u001b[39m\u001b[39m'\u001b[39m,\u001b[39m'\u001b[39m\u001b[39m12\u001b[39m\u001b[39m'\u001b[39m], \u001b[39m*\u001b[39m\u001b[39m*\u001b[39mparams)                                         \u001b[39m# NOTE: NEW SYNTAX **d for dictionary unpacking\u001b[39;00m\n\u001b[0;32m     <a href='vscode-notebook-cell:/c%3A/Users/raghu/python-drills/11_functions_advanced.ipynb#X32sZmlsZQ%3D%3D?line=14'>15</a>\u001b[0m \u001b[39m# Equal to :  json.loads(JSON_STRING, parse_int = float, parse_constant = str, object_hook = repr)\u001b[39;00m\n\u001b[0;32m     <a href='vscode-notebook-cell:/c%3A/Users/raghu/python-drills/11_functions_advanced.ipynb#X32sZmlsZQ%3D%3D?line=16'>17</a>\u001b[0m \u001b[39mprint\u001b[39m(\u001b[39mf\u001b[39m\u001b[39m'\u001b[39m\u001b[39mThe Kwargs load with params : \u001b[39m\u001b[39m{\u001b[39;00mbws(params)\u001b[39m}\u001b[39;00m\u001b[39m results in: \u001b[39m\u001b[39m\\n\u001b[39;00m\u001b[39m{\u001b[39;00mbg(kwargs_load)\u001b[39m}\u001b[39;00m\u001b[39m'\u001b[39m)\n",
      "\u001b[1;31mTypeError\u001b[0m: loads() takes 1 positional argument but 2 positional arguments (and 3 keyword-only arguments) were given"
     ]
    }
   ],
   "source": [
    "# Welcome to dictionary unpacking in functions \n",
    "# Instead of a set of parameters being explictly set like \n",
    "# a = b , c = d, e = f\n",
    "\n",
    "# We can create a parameter dict: \n",
    "\n",
    "params = {\n",
    "    'parse_int':float,                  # parse_int = float\n",
    "    'parse_constant': str,              # parse_constant = str\n",
    "    'object_hook': repr,                # object_hook = repr\n",
    "}\n",
    "\n",
    "# and do this: \n",
    "kwargs_load = json.loads(JSON_STRING,['I','TABLE','12'], **params)                                         # NOTE: NEW SYNTAX **d for dictionary unpacking\n",
    "# Equal to :  json.loads(JSON_STRING, parse_int = float, parse_constant = str, object_hook = repr)\n",
    "\n",
    "print(f'The Kwargs load with params : {bws(params)} results in: \\n{bg(kwargs_load)}')"
   ]
  },
  {
   "cell_type": "code",
   "execution_count": 20,
   "metadata": {},
   "outputs": [
    {
     "name": "stdout",
     "output_type": "stream",
     "text": [
      "WE COLLECTED ALL YOUR KEYWORDS!!!\n",
      "And we put them into a \u001b[1m\u001b[93m<class 'dict'>\u001b[0m\u001b[0m named kwargs that looks like: \n",
      " \u001b[1m\u001b[93m{'parse_int': <class 'float'>, 'parse_constant': <class 'str'>}\u001b[0m\u001b[0m\n",
      "The final return looks like: \n",
      "\u001b[1m\u001b[92m{'0': 43.0, 'TABLE': 'YOU SUCK', '2': 51.0, '3': 'HI', '4': 'HI', '5': 'HI', '6': 'HI', '7': 'HI', '8': 'HI', '9': 'HI', '10': 'HI', '11': 'HI', '12': 'YOU SUCK', '13': 'HI', '14': 'HI', '15': 'HI', '16': 'HI', '17': 'HI', '18': 'HI', '19': 'HI'}\u001b[0m\u001b[0m\n"
     ]
    }
   ],
   "source": [
    "# We can similarly alter our function to accept these parameters inline: \n",
    "def you_suck_kwargs(js:str,obj:list, **kwargs)->dict:\n",
    "    print('WE COLLECTED ALL YOUR KEYWORDS!!!')\n",
    "    print(f\"And we put them into a {bws(type(kwargs))} named kwargs that looks like: \\n {bws(kwargs)}\")\n",
    "    json_dict = json.loads(js,**kwargs)\n",
    "    \n",
    "    for hated in obj:\n",
    "        if hated in json_dict:\n",
    "            json_dict[hated] = 'YOU SUCK'\n",
    "\n",
    "    return json_dict\n",
    "\n",
    "# Now \n",
    "final_product = you_suck_kwargs(JSON_STRING,['I','TABLE','12'], parse_int = float, parse_constant = str)\n",
    "print(f'The final return looks like: \\n{bg(final_product)}')\n"
   ]
  }
 ],
 "metadata": {
  "kernelspec": {
   "display_name": "base",
   "language": "python",
   "name": "python3"
  },
  "language_info": {
   "codemirror_mode": {
    "name": "ipython",
    "version": 3
   },
   "file_extension": ".py",
   "mimetype": "text/x-python",
   "name": "python",
   "nbconvert_exporter": "python",
   "pygments_lexer": "ipython3",
   "version": "3.9.12"
  },
  "orig_nbformat": 4,
  "vscode": {
   "interpreter": {
    "hash": "a0d540e4747513a65e87964975f7c81fb7d18508ffc1a8c72ca7d81f5952c4de"
   }
  }
 },
 "nbformat": 4,
 "nbformat_minor": 2
}
