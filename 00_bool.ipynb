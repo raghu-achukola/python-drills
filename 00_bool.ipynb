{
 "cells": [
  {
   "attachments": {},
   "cell_type": "markdown",
   "metadata": {},
   "source": [
    "# Primitive Type: Bool"
   ]
  },
  {
   "cell_type": "code",
   "execution_count": 1,
   "metadata": {},
   "outputs": [],
   "source": [
    "# Booleans can be TRUE or FALSE\n",
    "tr = True\n",
    "fa = False"
   ]
  },
  {
   "cell_type": "code",
   "execution_count": 2,
   "metadata": {},
   "outputs": [
    {
     "name": "stdout",
     "output_type": "stream",
     "text": [
      "The type of tr is <class 'bool'> and the type of fa is <class 'bool'>\n"
     ]
    },
    {
     "data": {
      "text/plain": [
       "bool"
      ]
     },
     "execution_count": 2,
     "metadata": {},
     "output_type": "execute_result"
    }
   ],
   "source": [
    "print(f\"The type of tr is {type(tr)} and the type of fa is {type(fa)}\")\n",
    "type(True)"
   ]
  },
  {
   "attachments": {},
   "cell_type": "markdown",
   "metadata": {},
   "source": [
    "#### Things you can do with boolean objects"
   ]
  },
  {
   "cell_type": "code",
   "execution_count": 3,
   "metadata": {},
   "outputs": [
    {
     "name": "stdout",
     "output_type": "stream",
     "text": [
      "a is True, b is False\n"
     ]
    }
   ],
   "source": [
    "# Negate a bool (True -> False), (False -> True)\n",
    "\n",
    "# TODO: Play around with starting values of a \n",
    "a = True \n",
    "\n",
    "b = not a\n",
    "print(f'a is {a}, b is {b}')"
   ]
  },
  {
   "cell_type": "code",
   "execution_count": 4,
   "metadata": {},
   "outputs": [
    {
     "name": "stdout",
     "output_type": "stream",
     "text": [
      "When c is True and d is True the value of c == d is True\n"
     ]
    }
   ],
   "source": [
    "# Check equality (works for other datatypes) True == True -> True, True == False -> False, False == True -> False, False == False -> True\n",
    "\n",
    "# TODO: Play around with starting values of c and d\n",
    "c = True\n",
    "d = True\n",
    "\n",
    "\n",
    "print(f\"When c is {c} and d is {d} the value of c == d is {c==d}\" )"
   ]
  },
  {
   "cell_type": "code",
   "execution_count": 5,
   "metadata": {},
   "outputs": [
    {
     "name": "stdout",
     "output_type": "stream",
     "text": [
      "When e is True and f is True the value of e != f is False\n"
     ]
    }
   ],
   "source": [
    "# Check inequality (works for other datatypes) True != True -> False, True != False -> True, False != True -> True, False != False -> False\n",
    "\n",
    "# TODO: Play around with starting values of e and f\n",
    "e = True\n",
    "f = True\n",
    "\n",
    "\n",
    "print(f\"When e is {e} and f is {f} the value of e != f is {e!=f}\" )"
   ]
  },
  {
   "cell_type": "code",
   "execution_count": 6,
   "metadata": {},
   "outputs": [
    {
     "name": "stdout",
     "output_type": "stream",
     "text": [
      "When g is True and h is False the value of g or h is True\n"
     ]
    }
   ],
   "source": [
    "# Use or logic that takes two booleans and evaluates to true if at least one of them is true (<bool> or <bool>) -> (<bool>)\n",
    "\n",
    "# TODO: Play around with starting values of g and h\n",
    "g = True\n",
    "h = False\n",
    "\n",
    "\n",
    "print(f\"When g is {g} and h is {h} the value of g or h is {g or h}\" )"
   ]
  },
  {
   "cell_type": "code",
   "execution_count": 7,
   "metadata": {},
   "outputs": [
    {
     "name": "stdout",
     "output_type": "stream",
     "text": [
      "When i is True and j is False the value of i and j is False\n"
     ]
    }
   ],
   "source": [
    "# Use or logic that takes two booleans and evaluates to true only if both of them are true (<bool> and <bool>) -> (<bool>)\n",
    "\n",
    "# TODO: Play around with starting values of i and j\n",
    "i = True\n",
    "j = False\n",
    "\n",
    "\n",
    "print(f\"When i is {i} and j is {j} the value of i and j is {i and j}\" )"
   ]
  },
  {
   "attachments": {},
   "cell_type": "markdown",
   "metadata": {},
   "source": [
    "Conversion to other datatypes"
   ]
  },
  {
   "cell_type": "code",
   "execution_count": 8,
   "metadata": {},
   "outputs": [
    {
     "name": "stdout",
     "output_type": "stream",
     "text": [
      "True converts to 1 when cast as an int and False converts to 0\n",
      "True converts to 'True' when cast as an int and False converts to 'False'\n",
      "True converts to 1.0 when cast as an int and False converts to 0.0\n"
     ]
    }
   ],
   "source": [
    "# int \n",
    "print(f\"True converts to {repr(int(True))} when cast as an int and False converts to {repr(int(False))}\")\n",
    "# str \n",
    "print(f\"True converts to {repr(str(True))} when cast as an int and False converts to {repr(str(False))}\")\n",
    "# float\n",
    "print(f\"True converts to {repr(float(True))} when cast as an int and False converts to {repr(float(False))}\")"
   ]
  },
  {
   "attachments": {},
   "cell_type": "markdown",
   "metadata": {},
   "source": [
    "Using a boolean condition in branching"
   ]
  },
  {
   "cell_type": "code",
   "execution_count": 9,
   "metadata": {},
   "outputs": [],
   "source": [
    "#TODO: play around with these parameters for the next couple of exercises\n",
    "k = True \n",
    "l = True \n",
    "m = True "
   ]
  },
  {
   "cell_type": "code",
   "execution_count": 10,
   "metadata": {},
   "outputs": [
    {
     "name": "stdout",
     "output_type": "stream",
     "text": [
      "Section 1 gets triggered, because k is True\n"
     ]
    }
   ],
   "source": [
    "# Simple if statement -> if the boolean condition is true, stuff inside the indented block gets execute\n",
    "# -> if the boolean condition is false, NOTHING HAPPENS\n",
    "if k: \n",
    "    print('Section 1 gets triggered, because k is True')"
   ]
  },
  {
   "cell_type": "code",
   "execution_count": 11,
   "metadata": {},
   "outputs": [
    {
     "name": "stdout",
     "output_type": "stream",
     "text": [
      "Section 1 gets triggered, because k is True\n"
     ]
    }
   ],
   "source": [
    "# Simple if else statement -> if the boolean condition is true, stuff inside the indented block for IF gets executed\n",
    "# -> if the boolean condition is false, stuff inside the intended block for ELSE gets executed\n",
    "if k: \n",
    "    print('Section 1 gets triggered, because k is True')\n",
    "else:\n",
    "    print('Section 2 gets triggered because k is False')"
   ]
  },
  {
   "cell_type": "code",
   "execution_count": 12,
   "metadata": {},
   "outputs": [
    {
     "name": "stdout",
     "output_type": "stream",
     "text": [
      "Section 1 gets triggered, because k is True\n"
     ]
    }
   ],
   "source": [
    "# If elif else statement (chained conditional) -> Each boolean condition in the if-elif-elif chain is checked IN ORDER. As soon as one condition is True, \n",
    "# The code inside THAT indented block gets executed, and NOTHING ELSE\n",
    "\n",
    "if k: \n",
    "    print('Section 1 gets triggered, because k is True')\n",
    "elif l:\n",
    "    print('Section 2 gets triggered because l is True (AND K IS FALSE so Section 1 was NOT triggered)')\n",
    "elif m:\n",
    "    print('Section 3 gets triggered because m is True (AND K IS FALSE so Section 1 was NOT triggered) (and L is FALSE so Section 2 was NOT triggered')\n",
    "else:\n",
    "    print('Section 2 gets triggered because none of the previous conditions were true (k,l,m) were all False')\n"
   ]
  },
  {
   "cell_type": "code",
   "execution_count": 13,
   "metadata": {},
   "outputs": [
    {
     "data": {
      "text/plain": [
       "1"
      ]
     },
     "execution_count": 13,
     "metadata": {},
     "output_type": "execute_result"
    }
   ],
   "source": [
    "n = True\n",
    "x = 0\n",
    "# The if-else statment WHEN USED FOR ASSIGNMENT ONLY can be done INLINE\n",
    "# This Code\n",
    "if n: \n",
    "    x = 1\n",
    "else:\n",
    "    x = 2\n",
    "x"
   ]
  },
  {
   "cell_type": "code",
   "execution_count": 14,
   "metadata": {},
   "outputs": [
    {
     "data": {
      "text/plain": [
       "1"
      ]
     },
     "execution_count": 14,
     "metadata": {},
     "output_type": "execute_result"
    }
   ],
   "source": [
    "x = 0\n",
    "# Is equivalent to this code\n",
    "x = 1 if n else 2 \n",
    "x"
   ]
  },
  {
   "attachments": {},
   "cell_type": "markdown",
   "metadata": {},
   "source": [
    "Things you can do with lists of booleans"
   ]
  },
  {
   "cell_type": "code",
   "execution_count": 15,
   "metadata": {},
   "outputs": [
    {
     "name": "stdout",
     "output_type": "stream",
     "text": [
      "Is any value in list_of_bools True?: True\n",
      "Are all the values in list_of_bools True?: False\n"
     ]
    }
   ],
   "source": [
    "\n",
    "list_of_bools = [False, True, False, True, False]\n",
    "\n",
    "# are any of them true? \n",
    "any_true = any(list_of_bools)\n",
    "print(f\"Is any value in list_of_bools True?: {any_true}\") # This is equivalent to list_of_bools[0] OR list_of_bools[1] OR ... \n",
    "\n",
    "# are all of them true? \n",
    "all_true = all(list_of_bools)\n",
    "print(f\"Are all the values in list_of_bools True?: {all_true}\") # This is equivalent to list_of_bools[0] AND list_of_bools[1] AND ... \n",
    "\n"
   ]
  },
  {
   "cell_type": "code",
   "execution_count": 16,
   "metadata": {},
   "outputs": [
    {
     "name": "stdout",
     "output_type": "stream",
     "text": [
      "The sum of list_of_bools_2 is 3\n"
     ]
    }
   ],
   "source": [
    "list_of_bools_2 = [False, True, True, False, False, False, True]\n",
    "sum_bool = sum(list_of_bools_2)\n",
    "# sum() on a list of bool types treats them as integers (True = 1, False = 0, see 'Conversion to Other datatypes') before summing them up \n",
    "\n",
    "print(f'The sum of list_of_bools_2 is {sum_bool}')\n",
    "\n",
    "# 'Why on earth would we want this, this is useless'\n",
    "# This actually represents an important question we might want to answer and is an elegant (and most efficient) way of getting this answer\n",
    "# See if you can figure out what question is being answered by a sum of a boolean list."
   ]
  },
  {
   "cell_type": "code",
   "execution_count": null,
   "metadata": {},
   "outputs": [],
   "source": []
  }
 ],
 "metadata": {
  "kernelspec": {
   "display_name": "base",
   "language": "python",
   "name": "python3"
  },
  "language_info": {
   "codemirror_mode": {
    "name": "ipython",
    "version": 3
   },
   "file_extension": ".py",
   "mimetype": "text/x-python",
   "name": "python",
   "nbconvert_exporter": "python",
   "pygments_lexer": "ipython3",
   "version": "3.9.12"
  },
  "orig_nbformat": 4,
  "vscode": {
   "interpreter": {
    "hash": "a0d540e4747513a65e87964975f7c81fb7d18508ffc1a8c72ca7d81f5952c4de"
   }
  }
 },
 "nbformat": 4,
 "nbformat_minor": 2
}
