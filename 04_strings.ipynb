{
 "cells": [
  {
   "attachments": {},
   "cell_type": "markdown",
   "metadata": {},
   "source": [
    "# String\n",
    "\n",
    "Strings are the free form text things \n",
    "were originally called such because they were 'strings of characters'. This "
   ]
  },
  {
   "cell_type": "code",
   "execution_count": 11,
   "metadata": {},
   "outputs": [],
   "source": [
    "empty_string = ''\n",
    "single_character_string = 'a'\n",
    "a_lot_of_text_string = 'asdkfjlad'"
   ]
  },
  {
   "attachments": {},
   "cell_type": "markdown",
   "metadata": {},
   "source": [
    "Other ways to define a string "
   ]
  },
  {
   "cell_type": "code",
   "execution_count": 12,
   "metadata": {},
   "outputs": [],
   "source": [
    "# Double quotes\n",
    "dq_string = \"This string is nice because it can contain apostrophes like ' within the string.\""
   ]
  },
  {
   "cell_type": "code",
   "execution_count": 13,
   "metadata": {},
   "outputs": [
    {
     "name": "stdout",
     "output_type": "stream",
     "text": [
      "'The advantage of triple single or double quotes is that not only can we use both \\nsingle quotes (\\') and double quotes (\") without needing to escape them. You can also \\ndeclare a multiline string in one statement. Note that new lines will be tracked as \\nthe newline escape character (backslash-n).\\n'\n"
     ]
    }
   ],
   "source": [
    "# Triple single quotes and/or triple double quotes\n",
    "ts_string = '''The advantage of triple single or double quotes is that not only can we use both \n",
    "single quotes (') and double quotes (\") without needing to escape them. You can also \n",
    "declare a multiline string in one statement. Note that new lines will be tracked as \n",
    "the newline escape character (backslash-n).\n",
    "'''\n",
    "\n",
    "print(repr(ts_string))"
   ]
  },
  {
   "attachments": {},
   "cell_type": "markdown",
   "metadata": {},
   "source": [
    "#### Case methods"
   ]
  },
  {
   "cell_type": "code",
   "execution_count": 14,
   "metadata": {},
   "outputs": [
    {
     "name": "stdout",
     "output_type": "stream",
     "text": [
      " Hello, my name is example string. \n"
     ]
    }
   ],
   "source": [
    "example_string = ' Hello, my name is example string. '\n",
    "print(example_string)"
   ]
  },
  {
   "cell_type": "code",
   "execution_count": 15,
   "metadata": {},
   "outputs": [
    {
     "name": "stdout",
     "output_type": "stream",
     "text": [
      "Lower: ' hello, my name is example string. '\n",
      "Upper: ' HELLO, MY NAME IS EXAMPLE STRING. '\n",
      "Title: ' Hello, My Name Is Example String. '\n",
      "Swap: ' hELLO, MY NAME IS EXAMPLE STRING. '\n"
     ]
    }
   ],
   "source": [
    "# Convert to lower case\n",
    "lower = example_string.lower()      # <str>.lower() -> str returns the original string in lowercase\n",
    "upper = example_string.upper()      # <str>.upper() -> str returns the original string in uppercase\n",
    "title = example_string.title()      # <str>.upper() -> str returns the original string in titlecase\n",
    "swap = example_string.swapcase()\n",
    "\n",
    "print(f\"\"\"Lower: {repr(lower)}\n",
    "Upper: {repr(upper)}\n",
    "Title: {repr(title)}\n",
    "Swap: {repr(swap)}\"\"\")"
   ]
  },
  {
   "attachments": {},
   "cell_type": "markdown",
   "metadata": {},
   "source": [
    "### Other string-specific methods"
   ]
  },
  {
   "cell_type": "code",
   "execution_count": 6,
   "metadata": {},
   "outputs": [
    {
     "name": "stdout",
     "output_type": "stream",
     "text": [
      "With no parameters, .strip() removes TRAILING AND LEADING whitespace\n",
      "'   stuff   ' -> 'stuff'\n",
      "'   stuff   ' -> 'stuff   ' (lstrip with no parameters)\n",
      "'   stuff   ' -> '   stuff' (rstrip with no parameters)\n",
      "'00014.2324000' -> '14.2324' (strip with '0' as a parameter\n",
      "Take the string '2123'\n",
      "Center in whitespace to make a string w length 8 : '2123' -> '  2123  '\n",
      "Adding in whitespace on the right (left justifying) to make a string w length 8 : \n",
      "'2123' -> '2123    '\n",
      "Adding in whitespace on the left (right justifying) to make a string w length 8 :\n",
      "'2123' -> '    2123'\n"
     ]
    }
   ],
   "source": [
    "# Stripping\n",
    "space_str = '   stuff   '\n",
    "# You can remove trailing or leading characters using  .strip()\n",
    "strip_default_str = space_str.strip()\n",
    "print(f\"With no parameters, .strip() removes TRAILING AND LEADING whitespace\")\n",
    "print(f\"{repr(space_str)} -> {repr(strip_default_str)}\")\n",
    "\n",
    "# You can specify character or specify stripping only one side (left or right)\n",
    "print(f'{repr(space_str)} -> {repr(space_str.lstrip())} (lstrip with no parameters)' )\n",
    "print(f'{repr(space_str)} -> {repr(space_str.rstrip())} (rstrip with no parameters)' )\n",
    "new_stuff = '00014.2324000'\n",
    "print(f\"{repr(new_stuff)} -> {repr(new_stuff.strip('0'))} (strip with '0' as a parameter\")\n",
    "\n",
    "# Justifying/Centering\n",
    "uncentered = '2123'\n",
    "new_string_length = 8\n",
    "centered = uncentered.center(new_string_length)\n",
    "left_just = uncentered.ljust(new_string_length)\n",
    "right_just = uncentered.rjust(new_string_length)\n",
    "\n",
    "print(f'Take the string {repr(uncentered)}')\n",
    "print(f'Center in whitespace to make a string w length {new_string_length} : {repr(uncentered)} -> {repr(centered)}')\n",
    "print(f\"\"\"Adding in whitespace on the right (left justifying) to make a string w length {new_string_length} : \n",
    "{repr(uncentered)} -> {repr(left_just)}\"\"\")\n",
    "print(f\"\"\"Adding in whitespace on the left (right justifying) to make a string w length {new_string_length} :\n",
    "{repr(uncentered)} -> {repr(right_just)}\"\"\")"
   ]
  },
  {
   "cell_type": "code",
   "execution_count": 7,
   "metadata": {},
   "outputs": [],
   "source": [
    "# Formatting"
   ]
  },
  {
   "cell_type": "code",
   "execution_count": 8,
   "metadata": {},
   "outputs": [
    {
     "name": "stdout",
     "output_type": "stream",
     "text": [
      "We chopped up 'Hello,I am original string,full of commas' to be ['Hello', 'I am original string', 'full of commas']\n"
     ]
    }
   ],
   "source": [
    "# Splitting\n",
    "# We can turn a string into a list of substrings by chopping it up whenever it encounters a character: \n",
    "original_str = 'Hello,I am original string,full of commas'\n",
    "split = original_str.split(',') # if you don't put delimiter, it chops up on whitespace\n",
    "\n",
    "print(f'We chopped up {repr(original_str)} to be {repr(split)}')"
   ]
  },
  {
   "attachments": {},
   "cell_type": "markdown",
   "metadata": {},
   "source": [
    "### Iterable methods\n",
    "<div style=\"font-size: 12px\">\n",
    "As mentioned in the introduction, a string can be thought of as an order collection of characters. This framework persisted in most programming languages. A string in Python as well, is an ITERABLE (see list_and_tuple.ipynb) and thus shares most of the same methods as tuple. Keep in mind that a string is immutable (like a tuple and NOT like a list), so methods on lists (e.g. pop, append, extend, etc.) do NOT work on strings.\n",
    "</br></br>\n",
    "The following are methods that act by treating the string as a tuple of characters\n",
    "</div>"
   ]
  },
  {
   "cell_type": "code",
   "execution_count": 19,
   "metadata": {},
   "outputs": [
    {
     "data": {
      "text/plain": [
       "True"
      ]
     },
     "execution_count": 19,
     "metadata": {},
     "output_type": "execute_result"
    }
   ],
   "source": []
  },
  {
   "cell_type": "code",
   "execution_count": 9,
   "metadata": {},
   "outputs": [
    {
     "name": "stdout",
     "output_type": "stream",
     "text": [
      "The second character of 'Hello, my name is example string' is 'e'\n",
      "The last character in 'Hello, my name is example string' is 'g'\n",
      "The third to the seventh character in 'Hello, my name is example string' is 'llo,'\n",
      "When I add 'String1' to 'String2' I get 'String1String2'\n",
      "When I multiply 'Hello' by 4, I get HelloHelloHelloHello\n"
     ]
    }
   ],
   "source": [
    "iterable_string_ex = 'Hello, my name is example string'\n",
    "\n",
    "# Indexing - the character at index 1\n",
    "second_letter = iterable_string_ex[1]\n",
    "print(f'The second character of {repr(iterable_string_ex)} is {repr(second_letter)}')\n",
    "\n",
    "# Negative Indexing - the last character:\n",
    "last_character = iterable_string_ex[-1]\n",
    "print(f'The last character in {repr(iterable_string_ex)} is {repr(last_character)}')\n",
    "\n",
    "# Slicing - the characters between index 2 and index 6 (not including index 6)\n",
    "string_slice = iterable_string_ex[2:6]\n",
    "print(f'The third to the seventh character in {repr(iterable_string_ex)} is {repr(string_slice)}')\n",
    "\n",
    "# Addition - like a tuple of characters, str1 + str2 is just the characters in str2 smushed to the end\n",
    "# of the characters in str1\n",
    "str1 = 'String1'\n",
    "str2 = 'String2'\n",
    "sum_str = str1+str2\n",
    "print(f'When I add {repr(str1)} to {repr(str2)} I get {repr(sum_str)}')\n",
    "\n",
    "\n",
    "# Multiplication with an integer - like a tuple/list , str1 *n is just the characters in str1 repeated n times\n",
    "str3 = 'Hello'\n",
    "n = 4\n",
    "product_str = str3*n\n",
    "print(f'When I multiply {repr(str3)} by {n}, I get {product_str}')\n",
    "\n",
    "\n",
    "# Inequality - strings are compared alphabetically*, with letters coming 'later' being 'greater'\n",
    "# *all uppercase letters come before all lowercase letters\n",
    "# *all numbers come before all uppercase letters\n",
    "str_a = 'alpha'\n",
    "str_b = 'beta'\n",
    "str_cap = 'Beta'\n",
    "str_num = '01324'\n"
   ]
  },
  {
   "cell_type": "code",
   "execution_count": 10,
   "metadata": {},
   "outputs": [
    {
     "name": "stdout",
     "output_type": "stream",
     "text": [
      "According to python, '~' > '+' alphabetically\n",
      "because the '~' has an ord value of 126 and '+' has an ord value of 43\n",
      "\n"
     ]
    }
   ],
   "source": [
    "# extra - For special characters in string comparisons you can use the ord() function \n",
    "# on SINGLE CHARACTERS (strings of length 1) to understand how they will fare in inequality\n",
    "char_1 = '~'\n",
    "char_2 = '+'\n",
    "greater_or_lesser =  '>' if char_1 > char_2 else '<' \n",
    "assert char_1 != char_2\n",
    "print(f\"\"\"According to python, {repr(char_1)} {greater_or_lesser} {repr(char_2)} alphabetically\n",
    "because the {repr(char_1)} has an ord value of {ord(char_1)} and {repr(char_2)} has an ord value of {ord(char_2)}\n",
    "\"\"\")"
   ]
  }
 ],
 "metadata": {
  "kernelspec": {
   "display_name": "base",
   "language": "python",
   "name": "python3"
  },
  "language_info": {
   "codemirror_mode": {
    "name": "ipython",
    "version": 3
   },
   "file_extension": ".py",
   "mimetype": "text/x-python",
   "name": "python",
   "nbconvert_exporter": "python",
   "pygments_lexer": "ipython3",
   "version": "3.9.12"
  },
  "orig_nbformat": 4,
  "vscode": {
   "interpreter": {
    "hash": "a0d540e4747513a65e87964975f7c81fb7d18508ffc1a8c72ca7d81f5952c4de"
   }
  }
 },
 "nbformat": 4,
 "nbformat_minor": 2
}
