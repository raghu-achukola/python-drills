{
 "cells": [
  {
   "attachments": {},
   "cell_type": "markdown",
   "metadata": {},
   "source": [
    "# Functions"
   ]
  },
  {
   "attachments": {},
   "cell_type": "markdown",
   "metadata": {},
   "source": [
    "functions are the bedrock of all programming languages. Functions can be standalone functions or class functions (which we will cover in the class ipynb notebook). Generally speaking though this is not universal, class functions use the keyword self as the first parameter. \n",
    "\n",
    "We will focus on standalone functions here\n"
   ]
  },
  {
   "attachments": {},
   "cell_type": "markdown",
   "metadata": {},
   "source": [
    "Functions(or methods) are stored blocks of code that take in arguments (or parameters), do some functionality and return back a value to the user. This value can be stored in another variable"
   ]
  },
  {
   "cell_type": "code",
   "execution_count": 1,
   "metadata": {},
   "outputs": [],
   "source": [
    "from pytutorial import br, bg"
   ]
  },
  {
   "cell_type": "code",
   "execution_count": 2,
   "metadata": {},
   "outputs": [
    {
     "name": "stdout",
     "output_type": "stream",
     "text": [
      "Calling the function \u001b[1m\u001b[91m<function n_times_string at 0x000002762148F670>\u001b[0m\u001b[0m with arguments \u001b[1m\u001b[91m'Hello'\u001b[0m\u001b[0m and \u001b[1m\u001b[91m2\u001b[0m\u001b[0m returns value \u001b[1m\u001b[92m'HelloHello'\u001b[0m\u001b[0m\n"
     ]
    }
   ],
   "source": [
    "# Standalone function definition - Classic\n",
    "def n_times_string(string, n):\n",
    "    # Returns a string multiplied n-times\n",
    "    return string*n\n",
    "\n",
    "# We \"call\" a function by typing the name of the function with open parentheses containing the arguments we wish to pass \n",
    "\n",
    "arg1, arg2 = 'Hello',2\n",
    "returned_value = n_times_string(arg1,arg2)\n",
    "print(f'Calling the function {br(n_times_string)} with arguments {br(arg1)} and {br(arg2)} returns value {bg(returned_value)}')\n",
    "\n"
   ]
  },
  {
   "attachments": {},
   "cell_type": "markdown",
   "metadata": {},
   "source": [
    "Now notice that the above function works differently if you pass in an int. Python is loosely typed. No matter how many comments or helpful function names or variable names you use, i can still pass an integer to n_times_string"
   ]
  },
  {
   "cell_type": "code",
   "execution_count": 3,
   "metadata": {},
   "outputs": [
    {
     "name": "stdout",
     "output_type": "stream",
     "text": [
      "Calling the function \u001b[1m\u001b[91m<function n_times_string at 0x000002762148F670>\u001b[0m\u001b[0m with arguments \u001b[1m\u001b[91m5\u001b[0m\u001b[0m and \u001b[1m\u001b[91m2\u001b[0m\u001b[0m returns value \u001b[1m\u001b[92m10\u001b[0m\u001b[0m\n"
     ]
    }
   ],
   "source": [
    "arg1, arg2 = 5,2\n",
    "returned_value = n_times_string(arg1,arg2)\n",
    "print(f'Calling the function {br(n_times_string)} with arguments {br(arg1)} and {br(arg2)} returns value {bg(returned_value)}')\n"
   ]
  },
  {
   "attachments": {},
   "cell_type": "markdown",
   "metadata": {},
   "source": [
    "This is unavoidable - it is not considered a BUG of Python, ... its a FEATURE, put in by choice.\n",
    "There is a reason the vast majority of errors in Python ultimately boil down to Type Errors. \n",
    "However, when writing functions there is a best practice that can help you and users of your code debug "
   ]
  },
  {
   "cell_type": "code",
   "execution_count": 4,
   "metadata": {},
   "outputs": [],
   "source": [
    "# This function is valid 100% valid. It will take a string and return the first letter of the string in lowercase \n",
    "# if the string is nonempty otherwise will return an empty string\n",
    "def get_first_letter_in_lowercase(a):\n",
    "    return a[0].lower() if a else ''          # If this syntax is confusing, review truthyness for strings (04) and ternary operators for boolean(00)\n"
   ]
  },
  {
   "cell_type": "code",
   "execution_count": 5,
   "metadata": {},
   "outputs": [
    {
     "name": "stdout",
     "output_type": "stream",
     "text": [
      "lol\n"
     ]
    }
   ],
   "source": [
    "# However we can improve this method with *type* hints to explicitly say \n",
    "# \"We are looking to take in a string\"\n",
    "\n",
    "def get_first_letter_in_lowercase(a:str):\n",
    "    return a[0].lower() if a else '' \n",
    "\n",
    "# Once again this won't stop me from passing in a list and getting the wrong behavior\n",
    "bad_input = ['LOL','rekt']\n",
    "print(get_first_letter_in_lowercase(bad_input))\n",
    "\n",
    "# But this DOES help me debug. If i hover over the function i am calling in the print statement\n",
    "# It tells me \"This function takes in a string\"\n",
    "# If i hover over \"bad_input\" it tells me \"This variable is a list of strings\"\n"
   ]
  },
  {
   "cell_type": "code",
   "execution_count": 6,
   "metadata": {},
   "outputs": [],
   "source": [
    "# You can also type hint output - telling VS Code and other editing programs as well as readers\n",
    "# \"Hey this returns a string\"\n",
    "\n",
    "def get_first_letter_in_lowercase(a:str) -> str:\n",
    "    return a[0].lower() if a else '' "
   ]
  },
  {
   "attachments": {},
   "cell_type": "markdown",
   "metadata": {},
   "source": [
    "### Positional versus keyword arguments "
   ]
  },
  {
   "attachments": {},
   "cell_type": "markdown",
   "metadata": {},
   "source": [
    "There are two ways of referencing arguments in python functions , by position and by \"keyword\""
   ]
  },
  {
   "cell_type": "code",
   "execution_count": 7,
   "metadata": {},
   "outputs": [
    {
     "name": "stdout",
     "output_type": "stream",
     "text": [
      "The arguments provided to this function are :\n",
      "    principal \u001b[1m\u001b[92m1000\u001b[0m\u001b[0m\n",
      "    apy \u001b[1m\u001b[92m0.05\u001b[0m\u001b[0m\n",
      "    years \u001b[1m\u001b[92m2\u001b[0m\u001b[0m \n",
      "    \n",
      "With $1000 in the bank earning 5% interest for 2 years, the new total will be $\u001b[1m\u001b[92m1102.5\u001b[0m\u001b[0m \n",
      "\n",
      "The arguments provided to this function are :\n",
      "    principal \u001b[1m\u001b[92m2000\u001b[0m\u001b[0m\n",
      "    apy \u001b[1m\u001b[92m0.07\u001b[0m\u001b[0m\n",
      "    years \u001b[1m\u001b[92m3\u001b[0m\u001b[0m \n",
      "    \n",
      "The function still works as intended : new total $\u001b[1m\u001b[92m2450.0860000000002\u001b[0m\u001b[0m\n"
     ]
    }
   ],
   "source": [
    "# Take this function that calculates the future value of your money in a savings account or something \n",
    "def calculate_future_value(principal:float, apy:float, years:int) -> float: \n",
    "    print(f\"\"\"The arguments provided to this function are :\n",
    "    principal {bg(principal)}\n",
    "    apy {bg(apy)}\n",
    "    years {bg(years)} \n",
    "    \"\"\")\n",
    "    return principal*(1+apy)**years\n",
    "\n",
    "# I can call it with POSITIONAL ARGUMENTS \n",
    "future_1 = calculate_future_value(1000,0.05,2)\n",
    "\n",
    "# With positional arguments , which argument is which is decided by matching the order of the argumets of the function call \n",
    "# with the order of the parameters of the function definition\n",
    "print(f'With $1000 in the bank earning 5% interest for 2 years, the new total will be ${bg(future_1)} ', end = '\\n\\n')\n",
    "\n",
    "\n",
    "# You can also call it with KEYWORD ARGUMENTS, with the benefit of being able to define them out of order: \n",
    "future_2 = calculate_future_value(years = 3, apy = 0.07, principal = 2000)\n",
    "print(f'The function still works as intended : new total ${bg(future_2)}')"
   ]
  },
  {
   "cell_type": "code",
   "execution_count": 8,
   "metadata": {},
   "outputs": [
    {
     "name": "stdout",
     "output_type": "stream",
     "text": [
      "\u001b[1m\u001b[92m'Hello'\u001b[0m\u001b[0m\n",
      "\u001b[1m\u001b[91mNone\u001b[0m\u001b[0m\n"
     ]
    }
   ],
   "source": [
    "# If a function does not execute a return statement its return type will be None\n",
    "def prints_in_bold_green_no_return(something) -> None:\n",
    "    print(bg(something))        # printing is \"show to console\" it does NOT return, and so it will return \"None\"\n",
    "\n",
    "return_value = prints_in_bold_green_no_return('Hello') \n",
    "print(br(return_value))"
   ]
  },
  {
   "attachments": {},
   "cell_type": "markdown",
   "metadata": {},
   "source": [
    "### Default Values "
   ]
  },
  {
   "cell_type": "code",
   "execution_count": null,
   "metadata": {},
   "outputs": [],
   "source": []
  },
  {
   "cell_type": "code",
   "execution_count": 9,
   "metadata": {},
   "outputs": [
    {
     "name": "stdout",
     "output_type": "stream",
     "text": [
      "The result with month \u001b[1m\u001b[91m9\u001b[0m\u001b[0m, day \u001b[1m\u001b[91m26\u001b[0m\u001b[0m, year \u001b[1m\u001b[91m23\u001b[0m\u001b[0m is \u001b[1m\u001b[92m'9/26/2023'\u001b[0m\u001b[0m\n",
      "The result with month \u001b[1m\u001b[91m9\u001b[0m\u001b[0m, day \u001b[1m\u001b[91m27\u001b[0m\u001b[0m, year \u001b[1m\u001b[91m95\u001b[0m\u001b[0m with\n",
      "POSITIONAL CALL:\t \u001b[1m\u001b[92m'9/27/1995'\u001b[0m\u001b[0m\n",
      "KEYWORD CALL: \t\t \u001b[1m\u001b[92m'9/27/1995'\u001b[0m\u001b[0m\n"
     ]
    }
   ],
   "source": [
    "# Instead of having two functions that do slightly different things, you can extend the functionality of one by using default values\n",
    "\n",
    "# Take this function format datestring, which takes a 2digit year (0- 99), month, and day\n",
    "# Now generally if you see 09/21/12, you will automatically assume it is 2012 \n",
    "# But sometimes you need to create 1912, so:\n",
    "def format_datestring_mm_dd_yyyy( month:int, day:int, year_2digit:int, century = 20): \n",
    "    # Convert century and year_2digit to integer\n",
    "    year_4digit = century*100 + year_2digit\n",
    "    return f\"{month}/{day}/{year_4digit}\"\n",
    "\n",
    "m, d, y2d = 9,26,23\n",
    "# Now with these parameters we can call format_datestring_mm_dd_yyyy\n",
    "# We don't need to specify the fourth bc if we don't give it one, it has a DEFAULT value\n",
    "result_date_no_century = format_datestring_mm_dd_yyyy(m,d,y2d)\n",
    "print(f\"\"\"The result with month {br(m)}, day {br(d)}, year {br(y2d)} is {bg(result_date_no_century)}\"\"\")\n",
    "\n",
    "\n",
    "\n",
    "m, d, y2d = 9,27,95\n",
    "# We can supply a value for the fourth parameter either by position or by keyword argument (recommended)\n",
    "cent = 19\n",
    "result_date_position_century = format_datestring_mm_dd_yyyy(m,d,y2d,cent)\n",
    "result_date_keyword_century = format_datestring_mm_dd_yyyy(m,d,y2d,cent)\n",
    "\n",
    "print(f\"\"\"The result with month {br(m)}, day {br(d)}, year {br(y2d)} with\n",
    "POSITIONAL CALL:\\t {bg(result_date_position_century)}\n",
    "KEYWORD CALL: \\t\\t {bg(result_date_keyword_century)}\"\"\")        # Same result either way\n"
   ]
  },
  {
   "cell_type": "code",
   "execution_count": 10,
   "metadata": {},
   "outputs": [
    {
     "ename": "SyntaxError",
     "evalue": "positional argument follows keyword argument (1329642411.py, line 6)",
     "output_type": "error",
     "traceback": [
      "\u001b[1;36m  Input \u001b[1;32mIn [10]\u001b[1;36m\u001b[0m\n\u001b[1;33m    format_datestring_mm_dd_yyyy(century=20, 2, 9, 20 )\u001b[0m\n\u001b[1;37m                                                      ^\u001b[0m\n\u001b[1;31mSyntaxError\u001b[0m\u001b[1;31m:\u001b[0m positional argument follows keyword argument\n"
     ]
    }
   ],
   "source": [
    "# However note, when CALLING OR DEFINING a function that has a mix of positional and keyword/default arguments like the above function ^ \n",
    "# the keyword/default arguments must come A F T E R any positional arguments \n",
    "\n",
    "# This will be caught at the syntax level itself and you should see red lines/ error in the code *before you even run it*\n",
    "\n",
    "format_datestring_mm_dd_yyyy(century=20, 2, 9, 20 )"
   ]
  },
  {
   "cell_type": "code",
   "execution_count": 11,
   "metadata": {},
   "outputs": [],
   "source": [
    "# In addition, if we DONT want people calling our keyword arguments positionally, we can do this\n",
    "\n",
    "def format_datestring_mm_dd_yyyy( month:int, day:int, year_2digit:int, *, century = 20):    \n",
    "    # The * absorbs all other positional args like a black hole and errors out if it sees anything\n",
    "    # Convert century and year_2digit to integer\n",
    "    year_4digit = century*100 + year_2digit\n",
    "    return f\"{month}/{day}/{year_4digit}\""
   ]
  }
 ],
 "metadata": {
  "kernelspec": {
   "display_name": "base",
   "language": "python",
   "name": "python3"
  },
  "language_info": {
   "codemirror_mode": {
    "name": "ipython",
    "version": 3
   },
   "file_extension": ".py",
   "mimetype": "text/x-python",
   "name": "python",
   "nbconvert_exporter": "python",
   "pygments_lexer": "ipython3",
   "version": "3.9.12"
  },
  "orig_nbformat": 4,
  "vscode": {
   "interpreter": {
    "hash": "a0d540e4747513a65e87964975f7c81fb7d18508ffc1a8c72ca7d81f5952c4de"
   }
  }
 },
 "nbformat": 4,
 "nbformat_minor": 2
}
