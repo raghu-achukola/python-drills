{
 "cells": [
  {
   "attachments": {},
   "cell_type": "markdown",
   "metadata": {},
   "source": [
    "# Lists and Tuples"
   ]
  },
  {
   "attachments": {},
   "cell_type": "markdown",
   "metadata": {},
   "source": [
    "Lists and tuples are essentially ordered collections of objects (an ordered list)\n",
    "The only difference is that tuples (like primitive types like int, bool, float, str) are *immutable*, aka they cannot be changed in place without complete reassignment. An example is shown below "
   ]
  },
  {
   "cell_type": "code",
   "execution_count": 1,
   "metadata": {},
   "outputs": [
    {
     "name": "stdout",
     "output_type": "stream",
     "text": [
      "Even though we have done string[0] and gotten H, string itself remains unchanged: Hello!\n",
      "Lis is changed inplace without reassignment : lis is now [1, 2, 3, 4, 5]\n",
      "Lis is changed inplace without reassignment : lis is now [1, 2, 1, 4, 5]\n"
     ]
    }
   ],
   "source": [
    "string = 'Hello' \n",
    "# If I wanted string = 'Hello!' i cannot run any function on string that would change it, I would HAVE to do something like \n",
    "string = string + '!'\n",
    "\n",
    "# Functions on strings return NEW strings, they don't change the original \n",
    "data = string[0]\n",
    "print(f'Even though we have done string[0] and gotten {data}, string itself remains unchanged: {string}')\n",
    "\n",
    "# This is true with a tuple but NOT a list. Observe: \n",
    "lis = [1,2,3,4]\n",
    "lis.append(5)\n",
    "print(f'Lis is changed inplace without reassignment : lis is now {lis}')\n",
    "lis[2] = 1\n",
    "print(f'Lis is changed inplace without reassignment : lis is now {lis}')"
   ]
  },
  {
   "cell_type": "code",
   "execution_count": 2,
   "metadata": {},
   "outputs": [
    {
     "name": "stdout",
     "output_type": "stream",
     "text": [
      "Error occured!\n",
      "'tuple' object does not support item assignment\n"
     ]
    }
   ],
   "source": [
    "# This doesn't work on tuples: \n",
    "tup = (23,6,12,90)\n",
    "try: \n",
    "    tup[1] = 2\n",
    "except TypeError as e:\n",
    "    print('Error occured!') \n",
    "    print(e)"
   ]
  },
  {
   "attachments": {},
   "cell_type": "markdown",
   "metadata": {},
   "source": [
    "For all methods covered below on lists if they change the list inplace, safely assume that it does not work on tuples. We will focus only on lists because other than that distinction the two are mainly the same type of object, an <b>iterable</b> object"
   ]
  },
  {
   "attachments": {},
   "cell_type": "markdown",
   "metadata": {},
   "source": [
    "#### Reading from a list"
   ]
  },
  {
   "cell_type": "code",
   "execution_count": 3,
   "metadata": {},
   "outputs": [
    {
     "name": "stdout",
     "output_type": "stream",
     "text": [
      "Since the numbering starts at zero, the value at index 3 in list ['Hello', 'I', 'am', 'a', 'list', 'of', 'strings'] is 'a'\n",
      "The value at negative index -2 aka the 2th element from the end of list ['Hello', 'I', 'am', 'a', 'list', 'of', 'strings'] is 'of' \n"
     ]
    }
   ],
   "source": [
    "a = ['Hello', 'I', 'am', 'a', 'list' ,'of', 'strings']\n",
    "\n",
    "# You can retrieve an individual value by referencing its position in the list (its index) (the numbering starts at zero)\n",
    "index = 3\n",
    "value_in_a_at_index = a[index]\n",
    "\n",
    "print(f\"Since the numbering starts at zero, the value at index {index} in list {a} is {repr(value_in_a_at_index)}\")\n",
    "\n",
    "# This index can be negative: \n",
    "neg_index = -2\n",
    "value_neg_index = a[neg_index]\n",
    "\n",
    "print(f\"The value at negative index {neg_index} aka the {abs(neg_index)}th element from the end of list {a} is {repr(value_neg_index)} \")\n"
   ]
  },
  {
   "attachments": {},
   "cell_type": "markdown",
   "metadata": {},
   "source": [
    "### Slicing"
   ]
  },
  {
   "cell_type": "code",
   "execution_count": 4,
   "metadata": {},
   "outputs": [
    {
     "name": "stdout",
     "output_type": "stream",
     "text": [
      "The \"slice\" of the list ['A', 'list', 'of', 2, 'different', 'types'] from 1 to 4 is given by ['list', 'of', 2] \n"
     ]
    }
   ],
   "source": [
    "# Iterable objects can be 'sliced' aka find all \n",
    "b = ['A','list','of',2,'different','types']\n",
    "start = 1\n",
    "end = 4\n",
    "\n",
    "slice_of_list = b[start:end]\n",
    "print(f'The \"slice\" of the list {b} from {start} to {end} is given by {slice_of_list} ')\n",
    "\n"
   ]
  },
  {
   "attachments": {},
   "cell_type": "markdown",
   "metadata": {},
   "source": [
    "You can imagine 'slicing' two ways: \n",
    "- it goes from the index at start to but not including end\n",
    "- imagine the list with chop marks drawn at every comma and the closing brackets. The numbering starts at 0 like\n",
    "- `[|'A'|'list'|'of'|2|'different'|'types'|]`. Then the slice start and end is just where you make the cuts with your knife (the 'slice')"
   ]
  },
  {
   "cell_type": "code",
   "execution_count": 5,
   "metadata": {},
   "outputs": [
    {
     "name": "stdout",
     "output_type": "stream",
     "text": [
      "Up until index 2:('Tuple', 'slicing')\n",
      "Everything after index 1:('slicing', 'demostration', 1)\n"
     ]
    }
   ],
   "source": [
    "# When one half of the start or end of a slice is left blank, it goes until either the start or the end of the iterable \n",
    "c = ('Tuple','slicing','demostration',1)\n",
    "\n",
    "up_till_index_two = c[:2] # Make a cut at cut #2 and take the left. Or all the values up until but not including index 2\n",
    "print(f\"Up until index 2:{up_till_index_two}\")\n",
    "\n",
    "everything_after_index_one = c[1:] # Make a cut at #1 and take the right. Or all the values from AND including index 1\n",
    "print(f\"Everything after index 1:{everything_after_index_one}\")"
   ]
  },
  {
   "cell_type": "code",
   "execution_count": 6,
   "metadata": {},
   "outputs": [
    {
     "name": "stdout",
     "output_type": "stream",
     "text": [
      "List [0, 1, 2, 3, 4, 5, 6, 7, 8, 9, 10, 11, 12, 13, 14, 15, 16, 17] starting at index 3 up until not including index 11 taking a step size of 2\n",
      "[3, 5, 7, 9]\n"
     ]
    }
   ],
   "source": [
    "# Slice skipping: \n",
    "d = [0,1,2,3,4,5,6,7,8,9,10,11,12,13,14,15,16,17]\n",
    "# You can get every n records starting at start and ending at end by providing a third argument to the slice\n",
    "start = 3\n",
    "end = 11\n",
    "step = 2\n",
    "custom_slice = d[start:end:step]\n",
    "print(f'List {d} starting at index {start} up until not including index {end} taking a step size of {step}')\n",
    "print(f'{custom_slice}')"
   ]
  },
  {
   "attachments": {},
   "cell_type": "markdown",
   "metadata": {},
   "source": [
    "### Iterable Arithmetic"
   ]
  },
  {
   "cell_type": "code",
   "execution_count": 7,
   "metadata": {},
   "outputs": [],
   "source": [
    "e = ['Starting',1,'list', 2342.3, 'object',True]\n",
    "f = ['Other','list']\n",
    "g = ('Suprise!','A','tuple')"
   ]
  },
  {
   "cell_type": "code",
   "execution_count": 8,
   "metadata": {},
   "outputs": [
    {
     "name": "stdout",
     "output_type": "stream",
     "text": [
      "List ['Starting', 1, 'list', 2342.3, 'object', True] + List ['Other', 'list'] gives u ['Starting', 1, 'list', 2342.3, 'object', True, 'Other', 'list']\n",
      "Type Error found: can only concatenate list (not \"tuple\") to list\n"
     ]
    }
   ],
   "source": [
    "# Iterable addition works by putting the objects in the second iterable at the end of the first \n",
    "e_plus_f = e + f\n",
    "print(f'List {e} + List {f} gives u {e_plus_f}')\n",
    "# Note that you can do list + list or tuple + tuple but not list + tuple or tuple + list\n",
    "try: \n",
    "    e + g\n",
    "except TypeError as te: \n",
    "    print(f'Type Error found: {te}')\n"
   ]
  },
  {
   "cell_type": "code",
   "execution_count": 9,
   "metadata": {},
   "outputs": [
    {
     "name": "stdout",
     "output_type": "stream",
     "text": [
      "When you multiply tuple ('Suprise!', 'A', 'tuple') by an integer 2 you get ('Suprise!', 'A', 'tuple', 'Suprise!', 'A', 'tuple')\n"
     ]
    }
   ],
   "source": [
    "# Iterable times an int\n",
    "# g*n -> Create a single list/tuple, where the elements in g are repeated n times\n",
    "n = 2\n",
    "g_times_n = g * n\n",
    "print(f'When you multiply tuple {g} by an integer {n} you get {g_times_n}')"
   ]
  },
  {
   "attachments": {},
   "cell_type": "markdown",
   "metadata": {},
   "source": [
    "#### Equivalence and Inequality "
   ]
  },
  {
   "cell_type": "code",
   "execution_count": 10,
   "metadata": {},
   "outputs": [
    {
     "name": "stdout",
     "output_type": "stream",
     "text": [
      "TypeError '>' not supported between instances of 'list' and 'tuple'\n"
     ]
    }
   ],
   "source": [
    "# Inequality operations can only be done on same types : \n",
    "try:\n",
    "    [1,2,3] > (1,2,3)\n",
    "except TypeError as te: \n",
    "    print('TypeError {}'.format(te)) \n",
    "    \n"
   ]
  },
  {
   "cell_type": "code",
   "execution_count": 11,
   "metadata": {},
   "outputs": [
    {
     "name": "stdout",
     "output_type": "stream",
     "text": [
      "h is greater than i evaluates to True because  h[0]==i[0] so h[1]==i[1] and then i runs out, so h is greater because its longer\n",
      "h is greater than j evaluates to False because h[0] is not greater than j[0]\n"
     ]
    }
   ],
   "source": [
    "# Inequality operations are done by comparing each pair of elements in order until the shorter list runs out \n",
    "# If the two iterables were equal until the shorter ran out, the longer is considered \"greater\"\n",
    "# Note that the lists much match up pairwise in terms of data types\n",
    "\n",
    "# DONT CHANGE THESE\n",
    "h = [1,2,3]\n",
    "i = [1,2]\n",
    "j = [3,5]\n",
    "k = [-1,1]\n",
    "\n",
    "print (f'h is greater than i evaluates to {h>i} because  h[0]==i[0] so h[1]==i[1] and then i runs out, so h is greater because its longer')\n",
    "print (f\"h is greater than j evaluates to {h>j} because h[0] is not greater than j[0]\")\n",
    "\n"
   ]
  },
  {
   "attachments": {},
   "cell_type": "markdown",
   "metadata": {},
   "source": [
    "### Mutable Operations (List ONLY)"
   ]
  },
  {
   "cell_type": "code",
   "execution_count": 12,
   "metadata": {},
   "outputs": [
    {
     "name": "stdout",
     "output_type": "stream",
     "text": [
      "List l starts off like ['Starting', 'list']\n",
      "After append, list l is now ['Starting', 'list', 'hi!']\n"
     ]
    }
   ],
   "source": [
    "## Add an element to the end of a list \n",
    "l = ['Starting','list']\n",
    "print(f'List l starts off like {l}')\n",
    "l.append('hi!')\n",
    "print(f'After append, list l is now {l}')"
   ]
  },
  {
   "cell_type": "code",
   "execution_count": 13,
   "metadata": {},
   "outputs": [
    {
     "name": "stdout",
     "output_type": "stream",
     "text": [
      "Storing the result of l.append() makes no sense because the result is None\n",
      "l.append() doesn't return a new list, it modifies it inplace\n"
     ]
    }
   ],
   "source": [
    "# Note that this was done inplace. .append() like all these functions does not RETURN anything\n",
    "result = l.append('hi again!')\n",
    "print(f\"Storing the result of l.append() makes no sense because the result is {repr(result)}\")\n",
    "print(\"l.append() doesn't return a new list, it modifies it inplace\")"
   ]
  },
  {
   "cell_type": "code",
   "execution_count": 14,
   "metadata": {},
   "outputs": [
    {
     "name": "stdout",
     "output_type": "stream",
     "text": [
      "l now contains the values in m attached to the end: ['Starting', 'list', 'hi!', 'hi again!', 'Extended', 'list']\n"
     ]
    }
   ],
   "source": [
    "m = ['Extended','list']\n",
    "l.extend(m)\n",
    "print(f\"l now contains the values in m attached to the end: {l}\")\n",
    "# Note: this is the exact same as l = l + m (see list concatenation) or l += m"
   ]
  },
  {
   "cell_type": "code",
   "execution_count": 15,
   "metadata": {},
   "outputs": [
    {
     "name": "stdout",
     "output_type": "stream",
     "text": [
      "l now looks like ['Starting', 'INSERTED THING', 'list', 'hi!', 'hi again!', 'Extended', 'list']\n"
     ]
    }
   ],
   "source": [
    "# Insert a value at a specific index \n",
    "l.insert(1, 'INSERTED THING')\n",
    "print(f'l now looks like {l}')"
   ]
  },
  {
   "cell_type": "code",
   "execution_count": 16,
   "metadata": {},
   "outputs": [
    {
     "name": "stdout",
     "output_type": "stream",
     "text": [
      "I found the first instance of hi again! in the list ['Starting', 'INSERTED THING', 'list', 'hi!', 'hi again!', 'Extended', 'list'] and it occured at index 4\n"
     ]
    }
   ],
   "source": [
    "# Find the first occurance of a specific value\n",
    "lookup = 'hi again!'\n",
    "ind = l.index(lookup)\n",
    "print(f'I found the first instance of {lookup} in the list {l} and it occured at index {ind}')"
   ]
  },
  {
   "cell_type": "code",
   "execution_count": 17,
   "metadata": {},
   "outputs": [
    {
     "name": "stdout",
     "output_type": "stream",
     "text": [
      "l now looks like ['Starting', 'list', 'hi!', 'hi again!', 'Extended', 'list']\n"
     ]
    }
   ],
   "source": [
    "# Delete a value at a specific index\n",
    "del l[1]    # Deleted the element at this position \n",
    "print(f'l now looks like {l}')"
   ]
  },
  {
   "cell_type": "code",
   "execution_count": 18,
   "metadata": {},
   "outputs": [
    {
     "name": "stdout",
     "output_type": "stream",
     "text": [
      "l now looks like ['Starting', 'list', 'hi!', 'Extended', 'list']\n"
     ]
    }
   ],
   "source": [
    "# Delete a value based off its VALUE\n",
    "# If the position is unknown: \n",
    "removal_value = 'hi again!'\n",
    "l.remove(removal_value)\n",
    "print(f'l now looks like {l}')\n",
    "\n",
    "# Note, yes, this is the same as \n",
    "# removal_position = l.index(removal_value)\n",
    "# del l[removal_position]\n",
    "# in one step"
   ]
  },
  {
   "cell_type": "code",
   "execution_count": 19,
   "metadata": {},
   "outputs": [
    {
     "name": "stdout",
     "output_type": "stream",
     "text": [
      "l now looks like ['Starting', 'list', 'Extended', 'list']\n"
     ]
    }
   ],
   "source": [
    "# Remove a value based on its index and RETURN it\n",
    "index_to_remove = 2\n",
    "popped_value = l.pop(index_to_remove)\n",
    "# Note, yes, this is the same as \n",
    "# popped_value = l[index_to_remove]\n",
    "# del l[index_to_remove]\n",
    "# in one step\n",
    "print(f'l now looks like {l}')"
   ]
  },
  {
   "cell_type": "code",
   "execution_count": 20,
   "metadata": {},
   "outputs": [
    {
     "name": "stdout",
     "output_type": "stream",
     "text": [
      "l now looks like ['list', 'Extended', 'list', 'Starting']\n"
     ]
    }
   ],
   "source": [
    "# Reverse a list IN PLACE\n",
    "l.reverse()\n",
    "\n",
    "print(f'l now looks like {l}')\n",
    "# Note this is the same as (using slicing with a step )\n",
    "# l = l[::-1]\n",
    "# If you don't want it inplace, use the slicing method\n",
    "# new_list = l[::-1]\n",
    "# original list is unaffected\n"
   ]
  },
  {
   "cell_type": "code",
   "execution_count": 21,
   "metadata": {},
   "outputs": [
    {
     "name": "stdout",
     "output_type": "stream",
     "text": [
      "Batman is now ['This', 'list', 'represents', 'bruce', 'wayne', 'aka.', 'batman'] but even though i didn't touch it\n",
      " bruce_wayne is now also ['This', 'list', 'represents', 'bruce', 'wayne', 'aka.', 'batman']\n"
     ]
    }
   ],
   "source": [
    "# Copy a list \n",
    "# With mutable objects you ALWAYS have to be careful\n",
    "# Most times (not all), simple assignment doesn't create a whole new object \n",
    "# But creates another name for the same object in memory: \n",
    "\n",
    "bruce_wayne = ['This', 'list', 'represents', 'bruce', 'wayne']\n",
    "batman = bruce_wayne\n",
    "\n",
    "# After i do this: \n",
    "batman += ['aka.','batman']\n",
    "\n",
    "# The original list is affected, bc 'batman' and 'bruce_wayne' are two names referring to the same object (this is how list assignment works)\n",
    "print(f\"Batman is now {batman} but even though i didn't touch it\\n bruce_wayne is now also {bruce_wayne}\")\n"
   ]
  },
  {
   "cell_type": "code",
   "execution_count": 22,
   "metadata": {},
   "outputs": [
    {
     "name": "stdout",
     "output_type": "stream",
     "text": [
      "List 2 has changed: ['This', 'is', 'list', 2] without affecting list 1: ['This', 'is', 'list', 1]\n"
     ]
    }
   ],
   "source": [
    "# The above example is why we need to copy a list \n",
    "list_1 = ['This','is','list',1]\n",
    "list_2 = list_1.copy()              # We can also use slicing syntax list_2 = list_1[:]. Think about why this works\n",
    "list_2[-1] = 2\n",
    "\n",
    "print(f\"List 2 has changed: {list_2} without affecting list 1: {list_1}\")"
   ]
  },
  {
   "cell_type": "code",
   "execution_count": 23,
   "metadata": {},
   "outputs": [
    {
     "name": "stdout",
     "output_type": "stream",
     "text": [
      "Sorted list_3 is [-6, 1, 2, 3, 5]\n",
      "Sorted list_3 is now [1, 2, 3, 5, -6]\n"
     ]
    }
   ],
   "source": [
    "# Sort a list IN PLACE \n",
    "list_3 = [5,2,1,3,-6]\n",
    "list_3.sort()\n",
    "# Note this is the in place equivalent of using sorted(list_3)\n",
    "# aka \n",
    "# list_3.sort()\n",
    "# is equivalent to \n",
    "# list_3 = sorted(list_3)\n",
    "print(f'Sorted list_3 is {list_3}')\n",
    "# list_3 can also take a function as a key: \n",
    "\n",
    "list_3.sort(key = lambda x: abs(x))\n",
    "print(f'Sorted list_3 is now {list_3}')\n"
   ]
  },
  {
   "cell_type": "code",
   "execution_count": 24,
   "metadata": {},
   "outputs": [
    {
     "name": "stdout",
     "output_type": "stream",
     "text": [
      "List 3 is now []\n"
     ]
    }
   ],
   "source": [
    "# Clear the list\n",
    "list_3.clear()\n",
    "print(f'List 3 is now {list_3}')"
   ]
  },
  {
   "attachments": {},
   "cell_type": "markdown",
   "metadata": {},
   "source": [
    "Truthyness of lists or tuples: "
   ]
  },
  {
   "cell_type": "code",
   "execution_count": 25,
   "metadata": {},
   "outputs": [
    {
     "name": "stdout",
     "output_type": "stream",
     "text": [
      "NON EMPTY TUPLE (0, '') IS TRUE\n",
      "NON EMPTY LIST [1] IS TRUE\n"
     ]
    }
   ],
   "source": [
    "# List or tuples are considered False if they are empty or true otherwise\n",
    "non_empty_list = [1]\n",
    "empty_list = []\n",
    "non_empty_tuple = (0,'')\n",
    "empty_tuple = ()\n",
    "\n",
    "if empty_tuple:\n",
    "    print(f'EMPTY TUPLE {empty_tuple} IS TRUE')\n",
    "\n",
    "if non_empty_tuple:\n",
    "    print(f'NON EMPTY TUPLE {non_empty_tuple} IS TRUE')\n",
    "\n",
    "if empty_list:\n",
    "    print(f'EMPTY LIST IS {empty_list} TRUE')\n",
    "\n",
    "if non_empty_list:\n",
    "    print(f'NON EMPTY LIST {non_empty_list} IS TRUE')\n"
   ]
  },
  {
   "cell_type": "code",
   "execution_count": 26,
   "metadata": {},
   "outputs": [
    {
     "name": "stdout",
     "output_type": "stream",
     "text": [
      "Wow p is a <class 'list'>\n",
      "Wow p is a <class 'tuple'> now\n",
      "Wow p is a <class 'list'> now!\n",
      "A list turned into a string looks like this string '[1, 2, 3]'\n",
      "A tuple turned into a string looks like this string '(1, 2, 3)'\n"
     ]
    }
   ],
   "source": [
    "# Conversion to other data types\n",
    "# Lists and tuples can be freely converted \n",
    "p = [1,2,3]\n",
    "print(f'Wow p is a {type(p)}')\n",
    "p = tuple(p)\n",
    "print(f'Wow p is a {type(p)} now')\n",
    "p = list(p)\n",
    "print(f'Wow p is a {type(p)} now!')\n",
    "\n",
    "# As mentioned in the string primer (string.ipynb)\n",
    "# When you run print(<obj>)\n",
    "# What you are really running is print(str(object))\n",
    "\n",
    "# So unsurprisingly: \n",
    "s = str(list(p))\n",
    "print(f'A list turned into a string looks like this string {repr(s)}')\n",
    "s = str(tuple(p))\n",
    "print(f'A tuple turned into a string looks like this string {repr(s)}')"
   ]
  },
  {
   "cell_type": "code",
   "execution_count": null,
   "metadata": {},
   "outputs": [],
   "source": []
  }
 ],
 "metadata": {
  "kernelspec": {
   "display_name": "base",
   "language": "python",
   "name": "python3"
  },
  "language_info": {
   "codemirror_mode": {
    "name": "ipython",
    "version": 3
   },
   "file_extension": ".py",
   "mimetype": "text/x-python",
   "name": "python",
   "nbconvert_exporter": "python",
   "pygments_lexer": "ipython3",
   "version": "3.9.12"
  },
  "orig_nbformat": 4,
  "vscode": {
   "interpreter": {
    "hash": "a0d540e4747513a65e87964975f7c81fb7d18508ffc1a8c72ca7d81f5952c4de"
   }
  }
 },
 "nbformat": 4,
 "nbformat_minor": 2
}
